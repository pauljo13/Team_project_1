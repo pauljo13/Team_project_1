{
 "cells": [
  {
   "cell_type": "code",
   "execution_count": 92,
   "metadata": {},
   "outputs": [],
   "source": [
    "from selenium import webdriver\n",
    "from selenium.webdriver.common.keys import Keys\n",
    "from selenium.webdriver.common.by import By\n",
    "import time\n",
    "import datetime\n",
    "\n",
    "weekday = { 0:'MON',\n",
    "            1:'TUE',\n",
    "            2:'WED',\n",
    "            3:'THU',\n",
    "            4:'FRI',\n",
    "            5:'SAT',\n",
    "            6:'SUN'\n",
    "        }\n",
    "\n",
    "year_list = [2023]\n",
    "month_list = [9]\n",
    "day_list = [i for i in range(1,32)]\n",
    "for year in year_list:\n",
    "    for month in month_list:\n",
    "        init_datetime = datetime.datetime(year, month, 1)\n",
    "        # Get the year, week number, and weekday using isocalendar()\n",
    "        year, init_week_number, _ = init_datetime.isocalendar()\n",
    "        for day in day_list:\n",
    "            specific_datetime = datetime.datetime(year,month,day)\n",
    "            year, specific_week_number, _ = specific_datetime.isocalendar()\n",
    "            \n",
    "            specific_week_number = init_week_number-specific_week_number + 1\n",
    "            # Chrome 브라우저를 사용하여 웹 드라이버 시작\n",
    "            driver = webdriver.Chrome()\n",
    "\n",
    "            # Agoda 사이트로 이동\n",
    "            driver.get(\"https://www.agoda.com/ko-kr/\")\n",
    "\n",
    "            # 페이지가 로딩될 때까지 잠시 기다립니다.\n",
    "            time.sleep(10)\n",
    "\n",
    "            # 팝업창 클릭해서 없애기\n",
    "            popup_box = driver.find_element(By.XPATH,\"/html/body/div[12]/div[2]/button\")\n",
    "            popup_box.click()\n",
    "\n",
    "            time.sleep(4)\n",
    "\n",
    "            # 검색어 입력란을 찾고 \"로스엔젤레스\"라는 검색어를 입력합니다.\n",
    "\n",
    "            search_box = driver.find_element(By.XPATH,'//*[@id=\"textInput\"]')\n",
    "            search_box.send_keys(\"로스엔젤레스\")\n",
    "            search_box.send_keys(Keys.RETURN)\n",
    "\n",
    "            time.sleep(4)\n",
    "            autocomplete_tab = driver.find_element(By.XPATH,'//*[@id=\"SearchBoxContainer\"]/div[1]/div/div[2]/div/div/div[6]/div/div/ul/li[1]')\n",
    "            autocomplete_tab.click()\n",
    "            time.sleep(4)\n",
    "\n",
    "            # 달력에서 다음 버튼 클릭\n",
    "            next_month_button = driver.find_element(By.XPATH,'//*[@id=\"SearchBoxContainer\"]/div[1]/div/div[2]/div/div/div[6]/div/div/div[1]/div/div[1]/span[2]')\n",
    "            next_month_button.click()\n",
    "            time.sleep(4)\n",
    "\n",
    "            # 날짜 선택 및 클릭\n",
    "            start_date_picker = driver.find_element(By.XPATH,'//*[@id=\"SearchBoxContainer\"]/div[1]/div/div[2]/div/div/div[6]/div/div/div[1]/div/div[2]/div[2]/div[3]/div[1]/div[5]')\n",
    "            start_date_picker.click()\n",
    "            time.sleep(1)\n",
    "            end_date_picker = driver.find_element(By.XPATH,'//*[@id=\"SearchBoxContainer\"]/div[1]/div/div[2]/div/div/div[6]/div/div/div[1]/div/div[2]/div[2]/div[3]/div[1]/div[6]')\n",
    "            end_date_picker.click()\n",
    "            time.sleep(1)\n",
    "            minus_picker = driver.find_element(By.XPATH,'//*[@id=\"occupancy-selector\"]/div/div/div[2]/div[2]/div[1]')\n",
    "            minus_picker.click()\n",
    "            time.sleep(1)\n",
    "            search_button = driver.find_element(By.XPATH,'//*[@id=\"SearchBoxContainer\"]/div[2]/button')\n",
    "            search_button.click()\n",
    "            time.sleep(3)\n",
    "            search_button = driver.find_element(By.XPATH,'//*[@id=\"SearchBoxContainer\"]/div[2]/button')\n",
    "            search_button.click()\n",
    "            time.sleep(3)\n",
    "\n",
    "# search_box.send_keys(Keys.RETURN)\n",
    "\n",
    "# 검색 결과가 로딩될 때까지 잠시 기다립니다.\n",
    "time.sleep(10)\n",
    "\n",
    "\n",
    "# 숙소 위치 평가 선택\n",
    "value9_filter = driver.find_element(By.XPATH,'//*[@id=\"SideBarLocationFilters\"]/div[10]/div[2]/ul/li[1]/span')\n",
    "value9_filter.click()\n",
    "time.sleep(7)\n",
    "\n",
    "# 투숙객 평가 점수 선택\n",
    "customer_eval_filter = driver.find_element(By.XPATH,'//*[@id=\"SideBarLocationFilters\"]/div[8]/div[2]/ul/li[1]/span')\n",
    "customer_eval_filter.click()\n",
    "time.sleep(7)\n",
    "\n",
    "# 호텔 리스트 추출\n",
    "# hotel_list_containers = driver.find_elements(By.XPATH, '//div[@class=\"hotel-list-container\"]')\n",
    "hotel_elements = driver.find_elements(By.XPATH, '//*[@class=\"PropertyCard PropertyCardItem\"]')\n",
    "\n",
    "# 웹 브라우저를 닫습니다.\n",
    "# driver.quit()"
   ]
  },
  {
   "cell_type": "code",
   "execution_count": 49,
   "metadata": {},
   "outputs": [],
   "source": [
    "# CREATE Accommodation (\n",
    "#   ID INT\n",
    "#   시설 이름 CHAR(100)\n",
    "#   별점 INT\n",
    "#   시설 유형 CHAR(100)\n",
    "#   가격 (INT)\n",
    "#   위치 CHAR(100)\n",
    "#   체크인 날짜 DATETIME\n",
    "#   요일 CHAR(100)\n",
    "# );\n",
    "\n",
    "## "
   ]
  },
  {
   "cell_type": "code",
   "execution_count": 97,
   "metadata": {},
   "outputs": [
    {
     "name": "stdout",
     "output_type": "stream",
     "text": [
      "Current date: 2023-07-21\n",
      "Current weekday (0: Monday, 6: Sunday): 4\n"
     ]
    }
   ],
   "source": [
    "import datetime\n",
    "\n",
    "hotel_elements[0].get_property('outerHTML')\n",
    "\n",
    "hotel_name = hotel_elements[0].find_elements(By.TAG_NAME,'h3')[0].text\n",
    "hotel_location = hotel_elements[0].find_elements(By.TAG_NAME,'span')[5].text\n",
    "hotel_price = hotel_elements[0].find_elements(By.CLASS_NAME,'PropertyCardPrice__Value')[0].text\n",
    "len(hotel_elements)\n"
   ]
  },
  {
   "cell_type": "code",
   "execution_count": 1,
   "metadata": {},
   "outputs": [],
   "source": [
    "str1 = '//*[@id=\"SearchBoxContainer\"]/div[1]/div/div[2]/div/div/div[6]/div/div/div[1]/div/div[2]/div[2]/div[3]/div[1]/div[6]'\n",
    "str2 = '//*[@id=\"SearchBoxContainer\"]/div[1]/div/div[2]/div/div/div[6]/div/div/div[1]/div/div[2]/div[2]/div[3]/div[1]/div[7]'\n",
    "str1 == str2\n",
    "\n",
    "str1 = '//*[@id=\"SearchBoxContainer\"]/div[1]/div/div[2]/div/div/div[6]/div/div/div[1]/div/div[2]/div[1]/div[3]/div[1]/div[5]' # FRI\n",
    "str2 = '//*[@id=\"SearchBoxContainer\"]/div[1]/div/div[2]/div/div/div[6]/div/div/div[1]/div/div[2]/div[1]/div[3]/div[1]/div[6]' # SAT \n",
    "str3 = '//*[@id=\"SearchBoxContainer\"]/div[1]/div/div[2]/div/div/div[6]/div/div/div[1]/div/div[2]/div[1]/div[3]/div[1]/div[7]' # SUN\n",
    "str4 = '//*[@id=\"SearchBoxContainer\"]/div[1]/div/div[2]/div/div/div[6]/div/div/div[1]/div/div[2]/div[1]/div[3]/div[2]/div[1]'\n",
    "str30 = '//*[@id=\"SearchBoxContainer\"]/div[1]/div/div[2]/div/div/div[6]/div/div/div[1]/div/div[2]/div[1]/div[3]/div[5]/div[6]'"
   ]
  },
  {
   "cell_type": "code",
   "execution_count": 10,
   "metadata": {},
   "outputs": [
    {
     "name": "stdout",
     "output_type": "stream",
     "text": [
      "Week number in the month: 35\n"
     ]
    }
   ],
   "source": [
    "import datetime\n",
    "\n",
    "# Define the specific datetime object\n",
    "year = 2023\n",
    "month = 9\n",
    "day = 1\n",
    "specific_datetime = datetime.datetime(year, month, day)\n",
    "\n",
    "# Get the year, week number, and weekday using isocalendar()\n",
    "year, week_number, _ = specific_datetime.isocalendar()\n",
    "\n",
    "# Print the week number\n",
    "print(\"Week number in the month:\", week_number)"
   ]
  }
 ],
 "metadata": {
  "kernelspec": {
   "display_name": "tp1_env",
   "language": "python",
   "name": "python3"
  },
  "language_info": {
   "codemirror_mode": {
    "name": "ipython",
    "version": 3
   },
   "file_extension": ".py",
   "mimetype": "text/x-python",
   "name": "python",
   "nbconvert_exporter": "python",
   "pygments_lexer": "ipython3",
   "version": "3.10.12"
  },
  "orig_nbformat": 4
 },
 "nbformat": 4,
 "nbformat_minor": 2
}
