{
 "cells": [
  {
   "cell_type": "code",
   "execution_count": 43,
   "metadata": {},
   "outputs": [
    {
     "ename": "ElementClickInterceptedException",
     "evalue": "Message: element click intercepted: Element <span tabindex=\"0\" class=\"filter-item-info LocationScore-9 \" data-component=\"search-filter-reviewlocationscore\" data-element-name=\"search-filter-reviewlocationscore\" data-element-index=\"0\" data-element-value=\"9\" data-is-selected=\"false\" data-recommendation_type=\"-1\" aria-label=\"최고\" role=\"radio\" aria-checked=\"false\">...</span> is not clickable at point (110, 871). Other element would receive the click: <div id=\"ModalLoadingSpinner\">...</div>\n  (Session info: chrome=115.0.5790.99)\nStacktrace:\nBacktrace:\n\tGetHandleVerifier [0x004AA813+48355]\n\t(No symbol) [0x0043C4B1]\n\t(No symbol) [0x00345358]\n\t(No symbol) [0x00375062]\n\t(No symbol) [0x00373B98]\n\t(No symbol) [0x0037239B]\n\t(No symbol) [0x0037179E]\n\t(No symbol) [0x00369F5C]\n\t(No symbol) [0x0038A73C]\n\t(No symbol) [0x00369A36]\n\t(No symbol) [0x0038AA94]\n\t(No symbol) [0x0039C922]\n\t(No symbol) [0x0038A536]\n\t(No symbol) [0x003682DC]\n\t(No symbol) [0x003693DD]\n\tGetHandleVerifier [0x0070AABD+2539405]\n\tGetHandleVerifier [0x0074A78F+2800735]\n\tGetHandleVerifier [0x0074456C+2775612]\n\tGetHandleVerifier [0x005351E0+616112]\n\t(No symbol) [0x00445F8C]\n\t(No symbol) [0x00442328]\n\t(No symbol) [0x0044240B]\n\t(No symbol) [0x00434FF7]\n\tBaseThreadInitThunk [0x778D00C9+25]\n\tRtlGetAppContainerNamedObjectPath [0x77B87B1E+286]\n\tRtlGetAppContainerNamedObjectPath [0x77B87AEE+238]\n",
     "output_type": "error",
     "traceback": [
      "\u001b[1;31m---------------------------------------------------------------------------\u001b[0m",
      "\u001b[1;31mElementClickInterceptedException\u001b[0m          Traceback (most recent call last)",
      "Cell \u001b[1;32mIn[43], line 103\u001b[0m\n\u001b[0;32m    101\u001b[0m \u001b[39m# 숙소 위치 평가 선택\u001b[39;00m\n\u001b[0;32m    102\u001b[0m value9_filter \u001b[39m=\u001b[39m driver\u001b[39m.\u001b[39mfind_element(By\u001b[39m.\u001b[39mXPATH,\u001b[39m'\u001b[39m\u001b[39m//*[@id=\u001b[39m\u001b[39m\"\u001b[39m\u001b[39mSideBarLocationFilters\u001b[39m\u001b[39m\"\u001b[39m\u001b[39m]/div[10]/div[2]/ul/li[1]/span\u001b[39m\u001b[39m'\u001b[39m)\n\u001b[1;32m--> 103\u001b[0m value9_filter\u001b[39m.\u001b[39;49mclick()\n\u001b[0;32m    104\u001b[0m time\u001b[39m.\u001b[39msleep(\u001b[39m5\u001b[39m)\n\u001b[0;32m    106\u001b[0m \u001b[39m# 투숙객 평가 점수 선택\u001b[39;00m\n\u001b[0;32m    107\u001b[0m \u001b[39m# customer_eval_filter = driver.find_element(By.XPATH,'//*[@id=\"SideBarLocationFilters\"]/div[8]/div[2]/ul/li[1]/span')\u001b[39;00m\n\u001b[0;32m    108\u001b[0m \u001b[39m# customer_eval_filter.click()\u001b[39;00m\n\u001b[1;32m   (...)\u001b[0m\n\u001b[0;32m    111\u001b[0m \u001b[39m# 호텔 리스트 추출\u001b[39;00m\n\u001b[0;32m    112\u001b[0m \u001b[39m# hotel_list_containers = driver.find_elements(By.XPATH, '//div[@class=\"hotel-list-container\"]')\u001b[39;00m\n",
      "File \u001b[1;32mc:\\Users\\user\\.conda\\envs\\tp1_env\\lib\\site-packages\\selenium\\webdriver\\remote\\webelement.py:94\u001b[0m, in \u001b[0;36mWebElement.click\u001b[1;34m(self)\u001b[0m\n\u001b[0;32m     92\u001b[0m \u001b[39mdef\u001b[39;00m \u001b[39mclick\u001b[39m(\u001b[39mself\u001b[39m) \u001b[39m-\u001b[39m\u001b[39m>\u001b[39m \u001b[39mNone\u001b[39;00m:\n\u001b[0;32m     93\u001b[0m \u001b[39m    \u001b[39m\u001b[39m\"\"\"Clicks the element.\"\"\"\u001b[39;00m\n\u001b[1;32m---> 94\u001b[0m     \u001b[39mself\u001b[39;49m\u001b[39m.\u001b[39;49m_execute(Command\u001b[39m.\u001b[39;49mCLICK_ELEMENT)\n",
      "File \u001b[1;32mc:\\Users\\user\\.conda\\envs\\tp1_env\\lib\\site-packages\\selenium\\webdriver\\remote\\webelement.py:395\u001b[0m, in \u001b[0;36mWebElement._execute\u001b[1;34m(self, command, params)\u001b[0m\n\u001b[0;32m    393\u001b[0m     params \u001b[39m=\u001b[39m {}\n\u001b[0;32m    394\u001b[0m params[\u001b[39m\"\u001b[39m\u001b[39mid\u001b[39m\u001b[39m\"\u001b[39m] \u001b[39m=\u001b[39m \u001b[39mself\u001b[39m\u001b[39m.\u001b[39m_id\n\u001b[1;32m--> 395\u001b[0m \u001b[39mreturn\u001b[39;00m \u001b[39mself\u001b[39;49m\u001b[39m.\u001b[39;49m_parent\u001b[39m.\u001b[39;49mexecute(command, params)\n",
      "File \u001b[1;32mc:\\Users\\user\\.conda\\envs\\tp1_env\\lib\\site-packages\\selenium\\webdriver\\remote\\webdriver.py:346\u001b[0m, in \u001b[0;36mWebDriver.execute\u001b[1;34m(self, driver_command, params)\u001b[0m\n\u001b[0;32m    344\u001b[0m response \u001b[39m=\u001b[39m \u001b[39mself\u001b[39m\u001b[39m.\u001b[39mcommand_executor\u001b[39m.\u001b[39mexecute(driver_command, params)\n\u001b[0;32m    345\u001b[0m \u001b[39mif\u001b[39;00m response:\n\u001b[1;32m--> 346\u001b[0m     \u001b[39mself\u001b[39;49m\u001b[39m.\u001b[39;49merror_handler\u001b[39m.\u001b[39;49mcheck_response(response)\n\u001b[0;32m    347\u001b[0m     response[\u001b[39m\"\u001b[39m\u001b[39mvalue\u001b[39m\u001b[39m\"\u001b[39m] \u001b[39m=\u001b[39m \u001b[39mself\u001b[39m\u001b[39m.\u001b[39m_unwrap_value(response\u001b[39m.\u001b[39mget(\u001b[39m\"\u001b[39m\u001b[39mvalue\u001b[39m\u001b[39m\"\u001b[39m, \u001b[39mNone\u001b[39;00m))\n\u001b[0;32m    348\u001b[0m     \u001b[39mreturn\u001b[39;00m response\n",
      "File \u001b[1;32mc:\\Users\\user\\.conda\\envs\\tp1_env\\lib\\site-packages\\selenium\\webdriver\\remote\\errorhandler.py:245\u001b[0m, in \u001b[0;36mErrorHandler.check_response\u001b[1;34m(self, response)\u001b[0m\n\u001b[0;32m    243\u001b[0m         alert_text \u001b[39m=\u001b[39m value[\u001b[39m\"\u001b[39m\u001b[39malert\u001b[39m\u001b[39m\"\u001b[39m]\u001b[39m.\u001b[39mget(\u001b[39m\"\u001b[39m\u001b[39mtext\u001b[39m\u001b[39m\"\u001b[39m)\n\u001b[0;32m    244\u001b[0m     \u001b[39mraise\u001b[39;00m exception_class(message, screen, stacktrace, alert_text)  \u001b[39m# type: ignore[call-arg]  # mypy is not smart enough here\u001b[39;00m\n\u001b[1;32m--> 245\u001b[0m \u001b[39mraise\u001b[39;00m exception_class(message, screen, stacktrace)\n",
      "\u001b[1;31mElementClickInterceptedException\u001b[0m: Message: element click intercepted: Element <span tabindex=\"0\" class=\"filter-item-info LocationScore-9 \" data-component=\"search-filter-reviewlocationscore\" data-element-name=\"search-filter-reviewlocationscore\" data-element-index=\"0\" data-element-value=\"9\" data-is-selected=\"false\" data-recommendation_type=\"-1\" aria-label=\"최고\" role=\"radio\" aria-checked=\"false\">...</span> is not clickable at point (110, 871). Other element would receive the click: <div id=\"ModalLoadingSpinner\">...</div>\n  (Session info: chrome=115.0.5790.99)\nStacktrace:\nBacktrace:\n\tGetHandleVerifier [0x004AA813+48355]\n\t(No symbol) [0x0043C4B1]\n\t(No symbol) [0x00345358]\n\t(No symbol) [0x00375062]\n\t(No symbol) [0x00373B98]\n\t(No symbol) [0x0037239B]\n\t(No symbol) [0x0037179E]\n\t(No symbol) [0x00369F5C]\n\t(No symbol) [0x0038A73C]\n\t(No symbol) [0x00369A36]\n\t(No symbol) [0x0038AA94]\n\t(No symbol) [0x0039C922]\n\t(No symbol) [0x0038A536]\n\t(No symbol) [0x003682DC]\n\t(No symbol) [0x003693DD]\n\tGetHandleVerifier [0x0070AABD+2539405]\n\tGetHandleVerifier [0x0074A78F+2800735]\n\tGetHandleVerifier [0x0074456C+2775612]\n\tGetHandleVerifier [0x005351E0+616112]\n\t(No symbol) [0x00445F8C]\n\t(No symbol) [0x00442328]\n\t(No symbol) [0x0044240B]\n\t(No symbol) [0x00434FF7]\n\tBaseThreadInitThunk [0x778D00C9+25]\n\tRtlGetAppContainerNamedObjectPath [0x77B87B1E+286]\n\tRtlGetAppContainerNamedObjectPath [0x77B87AEE+238]\n"
     ]
    }
   ],
   "source": [
    "from selenium import webdriver\n",
    "from selenium.webdriver.common.keys import Keys\n",
    "from selenium.webdriver.common.by import By\n",
    "import time\n",
    "import datetime\n",
    "import json\n",
    "\n",
    "weekday = { 0:'MON',\n",
    "            1:'TUE',\n",
    "            2:'WED',\n",
    "            3:'THU',\n",
    "            4:'FRI',\n",
    "            5:'SAT',\n",
    "            6:'SUN'\n",
    "        }\n",
    "\n",
    "year_list = [2023]\n",
    "month_list = [9]\n",
    "day_list = [i for i in range(1,30)]\n",
    "\n",
    "extracted_data = []\n",
    "except_popup=0\n",
    "except_xpath=0\n",
    "for year in year_list:\n",
    "    for month in month_list:\n",
    "        init_datetime = datetime.datetime(year, month, 1)\n",
    "        # Get the year, week number, and weekday using isocalendar()\n",
    "        year, init_week_number, _ = init_datetime.isocalendar()\n",
    "        for day in day_list:\n",
    "            start_datetime = datetime.datetime(year,month,day)\n",
    "            end_datetime = datetime.datetime(year,month,day+1)\n",
    "            year, startdate_week_number, _ = start_datetime.isocalendar()\n",
    "            startdate_week_number = startdate_week_number - init_week_number + 1\n",
    "            startdate_weekday = start_datetime .weekday()\n",
    "            year, enddate_week_number, _ = end_datetime.isocalendar()\n",
    "            enddate_week_number = enddate_week_number - init_week_number + 1\n",
    "            enddate_weekday = end_datetime .weekday()\n",
    "            # Chrome 브라우저를 사용하여 웹 드라이버 시작\n",
    "            driver = webdriver.Chrome()\n",
    "\n",
    "            # Agoda 사이트로 이동\n",
    "            driver.get(\"https://www.agoda.com/ko-kr/\")\n",
    "\n",
    "            # 페이지가 로딩될 때까지 잠시 기다립니다.\n",
    "            time.sleep(8)\n",
    "\n",
    "            # 팝업창 클릭해서 없애기\n",
    "            try:\n",
    "                popup_box = driver.find_element(By.XPATH,\"/html/body/div[12]/div[2]/button\")\n",
    "            except:\n",
    "                try:\n",
    "                    popup_box = driver.find_element(By.XPATH,\"/html/body/div[11]/div[2]/div[3]/button[2]\")\n",
    "                except:\n",
    "                    except_popup+=1\n",
    "                    continue \n",
    "            popup_box.click()\n",
    "\n",
    "            time.sleep(3)\n",
    "\n",
    "            # 검색어 입력란을 찾고 \"로스엔젤레스\"라는 검색어를 입력합니다.\n",
    "\n",
    "            search_box = driver.find_element(By.XPATH,'//*[@id=\"textInput\"]')\n",
    "            search_box.send_keys(\"로스엔젤레스\")\n",
    "            search_box.send_keys(Keys.RETURN)\n",
    "\n",
    "            time.sleep(3)\n",
    "            autocomplete_tab = driver.find_element(By.XPATH,'//*[@id=\"SearchBoxContainer\"]/div[1]/div/div[2]/div/div/div[6]/div/div/ul/li[1]')\n",
    "            autocomplete_tab.click()\n",
    "            time.sleep(3)\n",
    "\n",
    "            # 달력에서 다음 버튼 클릭\n",
    "            next_month_button = driver.find_element(By.XPATH,'//*[@id=\"SearchBoxContainer\"]/div[1]/div/div[2]/div/div/div[6]/div/div/div[1]/div/div[1]/span[2]')\n",
    "            next_month_button.click()\n",
    "            time.sleep(3)\n",
    "\n",
    "            # 날짜 선택 및 클릭\n",
    "            start_date_XPATH = f'//*[@id=\"SearchBoxContainer\"]/div[1]/div/div[2]/div/div/div[6]/div/div/div[1]/div/div[2]/div[1]/div[3]/div[{startdate_week_number}]/div[{startdate_weekday+1}]'\n",
    "            start_date_picker = driver.find_element(By.XPATH,start_date_XPATH)\n",
    "            start_date_picker.click()\n",
    "            time.sleep(1)\n",
    "            end_date_XPATH = f'//*[@id=\"SearchBoxContainer\"]/div[1]/div/div[2]/div/div/div[6]/div/div/div[1]/div/div[2]/div[1]/div[3]/div[{enddate_week_number}]/div[{enddate_weekday+1}]'\n",
    "            end_date_picker = driver.find_element(By.XPATH,end_date_XPATH)\n",
    "            end_date_picker.click()\n",
    "            time.sleep(1)\n",
    "            minus_picker = driver.find_element(By.XPATH,'//*[@id=\"occupancy-selector\"]/div/div/div[2]/div[2]/div[1]')\n",
    "            minus_picker.click()\n",
    "            time.sleep(1)\n",
    "            search_button = driver.find_element(By.XPATH,'//*[@id=\"SearchBoxContainer\"]/div[2]/button')\n",
    "            search_button.click()\n",
    "            time.sleep(3)\n",
    "            search_button = driver.find_element(By.XPATH,'//*[@id=\"SearchBoxContainer\"]/div[2]/button')\n",
    "            search_button.click()\n",
    "            time.sleep(3)\n",
    "\n",
    "            # search_box.send_keys(Keys.RETURN)\n",
    "\n",
    "            # 검색 결과가 로딩될 때까지 잠시 기다립니다.\n",
    "            time.sleep(8)\n",
    "\n",
    "\n",
    "            # 숙소 위치 평가 선택\n",
    "            value9_filter = driver.find_element(By.XPATH,'//*[@id=\"SideBarLocationFilters\"]/div[10]/div[2]/ul/li[1]/span')\n",
    "            value9_filter.click()\n",
    "            time.sleep(5)\n",
    "\n",
    "            # 투숙객 평가 점수 선택\n",
    "            # customer_eval_filter = driver.find_element(By.XPATH,'//*[@id=\"SideBarLocationFilters\"]/div[8]/div[2]/ul/li[1]/span')\n",
    "            # customer_eval_filter.click()\n",
    "            # time.sleep(7)\n",
    "\n",
    "            # 호텔 리스트 추출\n",
    "            # hotel_list_containers = driver.find_elements(By.XPATH, '//div[@class=\"hotel-list-container\"]')\n",
    "            hotel_elements = driver.find_elements(By.XPATH, '//*[@class=\"PropertyCard PropertyCardItem\"]')\n",
    "\n",
    "            for hotel_element in hotel_elements:\n",
    "                try:\n",
    "                    hotel_name = hotel_element.find_elements(By.TAG_NAME,'h3')[0].text\n",
    "                    hotel_location = hotel_element.find_elements(By.TAG_NAME,'span')[5].text\n",
    "                    hotel_price = hotel_element.find_elements(By.CLASS_NAME,'PropertyCardPrice__Value')[0].text\n",
    "                except:\n",
    "                    except_xpath+=1\n",
    "                    break\n",
    "                hotel = {'name':hotel_name,\n",
    "                          'location':hotel_location,\n",
    "                          'price':hotel_price,\n",
    "                          'eval':9,\n",
    "                          'checkin date':start_datetime.isoformat(),\n",
    "                          'weekday':weekday[startdate_weekday]\n",
    "                        }\n",
    "                extracted_data.append(hotel)\n",
    "                print(hotel)\n",
    "\n",
    "            driver.quit()\n",
    "\n",
    "\n",
    "file_path = 'data.json'\n",
    "\n",
    "# Save the list to the JSON file\n",
    "with open(file_path, 'w') as file:\n",
    "    json.dump(extracted_data, file)\n",
    "            \n",
    "\n",
    "# 웹 브라우저를 닫습니다.\n",
    "# driver.quit()"
   ]
  },
  {
   "cell_type": "code",
   "execution_count": 49,
   "metadata": {},
   "outputs": [],
   "source": [
    "# CREATE Accommodation (\n",
    "#   ID INT\n",
    "#   시설 이름 CHAR(100)\n",
    "#   별점 INT\n",
    "#   시설 유형 CHAR(100)\n",
    "#   가격 (INT)\n",
    "#   위치 CHAR(100)\n",
    "#   체크인 날짜 DATETIME\n",
    "#   요일 CHAR(100)\n",
    "# );\n",
    "\n",
    "##\n",
    "#/html/body/div[11]/div[2]/div[3]/button[2] "
   ]
  },
  {
   "cell_type": "code",
   "execution_count": 97,
   "metadata": {},
   "outputs": [
    {
     "name": "stdout",
     "output_type": "stream",
     "text": [
      "Current date: 2023-07-21\n",
      "Current weekday (0: Monday, 6: Sunday): 4\n"
     ]
    }
   ],
   "source": [
    "import datetime\n",
    "\n",
    "hotel_elements[0].get_property('outerHTML')\n",
    "\n",
    "hotel_name = hotel_elements[0].find_elements(By.TAG_NAME,'h3')[0].text\n",
    "hotel_location = hotel_elements[0].find_elements(By.TAG_NAME,'span')[5].text\n",
    "hotel_price = hotel_elements[0].find_elements(By.CLASS_NAME,'PropertyCardPrice__Value')[0].text\n",
    "len(hotel_elements)\n"
   ]
  },
  {
   "cell_type": "code",
   "execution_count": 1,
   "metadata": {},
   "outputs": [],
   "source": [
    "str1 = '//*[@id=\"SearchBoxContainer\"]/div[1]/div/div[2]/div/div/div[6]/div/div/div[1]/div/div[2]/div[2]/div[3]/div[1]/div[6]'\n",
    "str2 = '//*[@id=\"SearchBoxContainer\"]/div[1]/div/div[2]/div/div/div[6]/div/div/div[1]/div/div[2]/div[2]/div[3]/div[1]/div[7]'\n",
    "str1 == str2\n",
    "\n",
    "str1 = '//*[@id=\"SearchBoxContainer\"]/div[1]/div/div[2]/div/div/div[6]/div/div/div[1]/div/div[2]/div[1]/div[3]/div[1]/div[5]' # FRI\n",
    "str2 = '//*[@id=\"SearchBoxContainer\"]/div[1]/div/div[2]/div/div/div[6]/div/div/div[1]/div/div[2]/div[1]/div[3]/div[1]/div[6]' # SAT \n",
    "str3 = '//*[@id=\"SearchBoxContainer\"]/div[1]/div/div[2]/div/div/div[6]/div/div/div[1]/div/div[2]/div[1]/div[3]/div[1]/div[7]' # SUN\n",
    "str4 = '//*[@id=\"SearchBoxContainer\"]/div[1]/div/div[2]/div/div/div[6]/div/div/div[1]/div/div[2]/div[1]/div[3]/div[2]/div[1]'\n",
    "str30 = '//*[@id=\"SearchBoxContainer\"]/div[1]/div/div[2]/div/div/div[6]/div/div/div[1]/div/div[2]/div[1]/div[3]/div[5]/div[6]'"
   ]
  },
  {
   "cell_type": "code",
   "execution_count": 8,
   "metadata": {},
   "outputs": [
    {
     "name": "stdout",
     "output_type": "stream",
     "text": [
      "Week number in the month: 35\n",
      "4\n"
     ]
    }
   ],
   "source": [
    "import datetime\n",
    "\n",
    "# Define the specific datetime object\n",
    "year = 2023\n",
    "month = 9\n",
    "day = 1\n",
    "start_datetime = datetime.datetime(year, month, day)\n",
    "\n",
    "# Get the year, week number, and weekday using isocalendar()\n",
    "year, week_number, _ = start_datetime.isocalendar()\n",
    "\n",
    "# Print the week number\n",
    "print(\"Week number in the month:\", week_number)\n",
    "\n",
    "print(start_datetime.weekday())"
   ]
  },
  {
   "cell_type": "code",
   "execution_count": 20,
   "metadata": {},
   "outputs": [
    {
     "name": "stdout",
     "output_type": "stream",
     "text": [
      "====\n",
      "Hotel Figueroa, In The Unbound Collection By Hyatt\n",
      "[<selenium.webdriver.remote.webelement.WebElement (session=\"fa40b8f72bca1d4638f578af196f4369\", element=\"CF88EAA9894892EEE1FEF676E901FB29_element_271\")>]\n",
      "====\n",
      "E 센트럴 호텔 다운타운 로스앤젤레스 (E Central Hotel Downtown Los Angeles)\n",
      "[<selenium.webdriver.remote.webelement.WebElement (session=\"fa40b8f72bca1d4638f578af196f4369\", element=\"CF88EAA9894892EEE1FEF676E901FB29_element_286\")>]\n",
      "====\n",
      "Moxy Downtown Los Angeles\n",
      "[<selenium.webdriver.remote.webelement.WebElement (session=\"fa40b8f72bca1d4638f578af196f4369\", element=\"CF88EAA9894892EEE1FEF676E901FB29_element_301\")>]\n",
      "====\n",
      "InterContinental - Los Angeles Downtown\n",
      "[]\n",
      "====\n",
      "The Metric - Los Angeles Downtown\n",
      "[<selenium.webdriver.remote.webelement.WebElement (session=\"fa40b8f72bca1d4638f578af196f4369\", element=\"CF88EAA9894892EEE1FEF676E901FB29_element_318\")>]\n",
      "====\n",
      "Stillwell Hotel\n",
      "[<selenium.webdriver.remote.webelement.WebElement (session=\"fa40b8f72bca1d4638f578af196f4369\", element=\"CF88EAA9894892EEE1FEF676E901FB29_element_319\")>]\n",
      "====\n",
      "레지던스 인 로스앤젤레스 L.A. 라이브 (Residence Inn Los Angeles L.A. LIVE)\n",
      "[<selenium.webdriver.remote.webelement.WebElement (session=\"fa40b8f72bca1d4638f578af196f4369\", element=\"CF88EAA9894892EEE1FEF676E901FB29_element_320\")>]\n",
      "====\n",
      "리츠칼튼, 로스앤젤레스 (The Ritz-Carlton, Los Angeles)\n",
      "[<selenium.webdriver.remote.webelement.WebElement (session=\"fa40b8f72bca1d4638f578af196f4369\", element=\"CF88EAA9894892EEE1FEF676E901FB29_element_321\")>]\n",
      "====\n",
      "코트야드 로스앤젤레스 LA. 라이브 (Courtyard Los Angeles L.A. LIVE)\n",
      "[<selenium.webdriver.remote.webelement.WebElement (session=\"fa40b8f72bca1d4638f578af196f4369\", element=\"CF88EAA9894892EEE1FEF676E901FB29_element_322\")>]\n"
     ]
    }
   ],
   "source": [
    "for i in hotel_elements:\n",
    "    print('====')\n",
    "    print(i.find_elements(By.TAG_NAME,'h3')[0].text)\n",
    "    print(i.find_elements(By.CLASS_NAME,'PropertyCardPrice__Value'))"
   ]
  },
  {
   "cell_type": "code",
   "execution_count": 42,
   "metadata": {},
   "outputs": [
    {
     "data": {
      "text/plain": [
       "87"
      ]
     },
     "execution_count": 42,
     "metadata": {},
     "output_type": "execute_result"
    }
   ],
   "source": [
    "file_path = 'data.json'\n",
    "\n",
    "# Load the data from the JSON file\n",
    "with open(file_path, 'r') as file:\n",
    "    loaded_data_list = json.load(file)\n",
    "\n",
    "len(loaded_data_list)"
   ]
  }
 ],
 "metadata": {
  "kernelspec": {
   "display_name": "tp1_env",
   "language": "python",
   "name": "python3"
  },
  "language_info": {
   "codemirror_mode": {
    "name": "ipython",
    "version": 3
   },
   "file_extension": ".py",
   "mimetype": "text/x-python",
   "name": "python",
   "nbconvert_exporter": "python",
   "pygments_lexer": "ipython3",
   "version": "3.10.12"
  },
  "orig_nbformat": 4
 },
 "nbformat": 4,
 "nbformat_minor": 2
}
