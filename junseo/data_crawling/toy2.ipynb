{
 "cells": [
  {
   "cell_type": "code",
   "execution_count": 6,
   "metadata": {},
   "outputs": [
    {
     "name": "stdout",
     "output_type": "stream",
     "text": [
      "<class 'pandas.core.frame.DataFrame'>\n",
      "RangeIndex: 1088 entries, 0 to 1087\n",
      "Data columns (total 7 columns):\n",
      " #   Column        Non-Null Count  Dtype  \n",
      "---  ------        --------------  -----  \n",
      " 0   name          1088 non-null   object \n",
      " 1   location      1088 non-null   object \n",
      " 2   price         1088 non-null   object \n",
      " 3   loc_eval      1088 non-null   int64  \n",
      " 4   satisfaction  1085 non-null   float64\n",
      " 5   checkin date  1088 non-null   object \n",
      " 6   weekday       1088 non-null   object \n",
      "dtypes: float64(1), int64(1), object(5)\n",
      "memory usage: 59.6+ KB\n"
     ]
    },
    {
     "data": {
      "text/plain": [
       "0       8\n",
       "1       8\n",
       "2       8\n",
       "3       8\n",
       "4       8\n",
       "       ..\n",
       "1083    8\n",
       "1084    8\n",
       "1085    8\n",
       "1086    8\n",
       "1087    8\n",
       "Name: loc_eval, Length: 1088, dtype: int64"
      ]
     },
     "execution_count": 6,
     "metadata": {},
     "output_type": "execute_result"
    }
   ],
   "source": [
    "from selenium import webdriver\n",
    "from selenium.webdriver.common.keys import Keys\n",
    "from selenium.webdriver.common.by import By\n",
    "import time\n",
    "import datetime\n",
    "import json\n",
    "import pandas as pd\n",
    "\n",
    "file_path = 'data_8.json'\n",
    "\n",
    "def deserialize_datetime(json_obj):\n",
    "    if 'datetime' in json_obj:\n",
    "        return datetime.fromisoformat(json_obj['datetime'])\n",
    "    return json_obj\n",
    "\n",
    "# Load the data from the JSON file with custom deserialization function\n",
    "with open(file_path, 'r') as file:\n",
    "    loaded_data_list = json.load(file, object_hook=deserialize_datetime)\n",
    "\n",
    "# Print the loaded data\n",
    "# print(len(loaded_data_list))\n",
    "\n",
    "df = pd.read_json(file_path)\n",
    "df.info()\n",
    "df['loc_eval']"
   ]
  },
  {
   "cell_type": "code",
   "execution_count": 7,
   "metadata": {},
   "outputs": [
    {
     "ename": "ValueError",
     "evalue": "day is out of range for month",
     "output_type": "error",
     "traceback": [
      "\u001b[1;31m---------------------------------------------------------------------------\u001b[0m",
      "\u001b[1;31mValueError\u001b[0m                                Traceback (most recent call last)",
      "Cell \u001b[1;32mIn[7], line 1\u001b[0m\n\u001b[1;32m----> 1\u001b[0m datetime\u001b[39m.\u001b[39;49mdatetime(\u001b[39m2022\u001b[39;49m,\u001b[39m9\u001b[39;49m,\u001b[39m31\u001b[39;49m)\n",
      "\u001b[1;31mValueError\u001b[0m: day is out of range for month"
     ]
    }
   ],
   "source": [
    "datetime.datetime(2022,9,31)"
   ]
  }
 ],
 "metadata": {
  "kernelspec": {
   "display_name": "tp1_env",
   "language": "python",
   "name": "python3"
  },
  "language_info": {
   "codemirror_mode": {
    "name": "ipython",
    "version": 3
   },
   "file_extension": ".py",
   "mimetype": "text/x-python",
   "name": "python",
   "nbconvert_exporter": "python",
   "pygments_lexer": "ipython3",
   "version": "3.10.12"
  },
  "orig_nbformat": 4
 },
 "nbformat": 4,
 "nbformat_minor": 2
}
