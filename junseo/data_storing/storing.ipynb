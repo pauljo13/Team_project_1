{
 "cells": [
  {
   "cell_type": "code",
   "execution_count": 5,
   "metadata": {},
   "outputs": [
    {
     "name": "stdout",
     "output_type": "stream",
     "text": [
      "<class 'pandas.core.frame.DataFrame'>\n",
      "RangeIndex: 28301 entries, 0 to 28300\n",
      "Data columns (total 13 columns):\n",
      " #   Column         Non-Null Count  Dtype \n",
      "---  ------         --------------  ----- \n",
      " 0   departuredate  28301 non-null  object\n",
      " 1   departureday   28301 non-null  object\n",
      " 2   departuretime  28301 non-null  object\n",
      " 3   class          28301 non-null  object\n",
      " 4   arrivaldate    28301 non-null  object\n",
      " 5   arrivalday     28298 non-null  object\n",
      " 6   arrivaltime    28301 non-null  object\n",
      " 7   flighttime     28301 non-null  object\n",
      " 8   flighttype     28301 non-null  int64 \n",
      " 9   price          28301 non-null  object\n",
      " 10  airlines       28301 non-null  object\n",
      " 11  portd          28301 non-null  object\n",
      " 12  porta          28301 non-null  object\n",
      "dtypes: int64(1), object(12)\n",
      "memory usage: 2.8+ MB\n"
     ]
    }
   ],
   "source": [
    "import pandas as pd\n",
    "import json\n",
    "import time\n",
    "from datetime import datetime\n",
    "\n",
    "df1 = pd.read_csv('KRtoLA.csv')\n",
    "df1.info()\n",
    "\n"
   ]
  },
  {
   "cell_type": "code",
   "execution_count": 14,
   "metadata": {},
   "outputs": [
    {
     "ename": "AttributeError",
     "evalue": "module 'time' has no attribute 'datetime'",
     "output_type": "error",
     "traceback": [
      "\u001b[1;31m---------------------------------------------------------------------------\u001b[0m",
      "\u001b[1;31mAttributeError\u001b[0m                            Traceback (most recent call last)",
      "Cell \u001b[1;32mIn[14], line 1\u001b[0m\n\u001b[1;32m----> 1\u001b[0m df1[\u001b[39m'\u001b[39m\u001b[39mdeparturedate\u001b[39m\u001b[39m'\u001b[39m]\u001b[39m.\u001b[39mapply(time\u001b[39m.\u001b[39;49mdatetime\u001b[39m.\u001b[39mstrptime(\u001b[39m'\u001b[39m\u001b[39m%\u001b[39m\u001b[39mm-\u001b[39m\u001b[39m%d\u001b[39;00m\u001b[39m'\u001b[39m))\n",
      "\u001b[1;31mAttributeError\u001b[0m: module 'time' has no attribute 'datetime'"
     ]
    }
   ],
   "source": [
    "df1['departuredate'].apply(time.datetime.strptime('%m-%d'))"
   ]
  },
  {
   "cell_type": "markdown",
   "metadata": {},
   "source": [
    "CREATE Accommodation (\n",
    "    ID INT\n",
    "    시설 이름 CHAR(100)\n",
    "    별점 INT\n",
    "    시설 유형 CHAR(100)\n",
    "    가격 (INT)\n",
    "    위치 CHAR(100)\n",
    "    체크인 날짜 DATETIME\n",
    "    요일 CHAR(100)\n",
    ");\n",
    "\n",
    "CREATE TABLE Flights (\n",
    "    ID INT\n",
    "    클래스 CHAR(50)\n",
    "    가격 (INT)\n",
    "    출발 공항 CHAR(100)\n",
    "    도착 공항 CHAR(100)\n",
    "    소요 시간 TIME\n",
    "    경유 횟수 INT\n",
    "    출발 시간 TIME\n",
    "    도착 시간 TIME\n",
    "    날짜 DATETIME\n",
    "    요일 CHAR(100)\n",
    "    항공사 CHAR(100)\n",
    ");\n"
   ]
  },
  {
   "cell_type": "code",
   "execution_count": null,
   "metadata": {},
   "outputs": [],
   "source": [
    "import sqlite3\n",
    "\n",
    "# Create a connection to the database (if it doesn't exist, a new one will be created)\n",
    "conn = sqlite3.connect('Database.db')\n",
    "\n",
    "# Create a cursor object to interact with the database\n",
    "cursor = conn.cursor()\n",
    "\n",
    "# Create a table (if it doesn't exist)\n",
    "cursor.execute('''CREATE TABLE IF NOT EXISTS accommodation (\n",
    "                    ID INT PRIMARY KEY,\n",
    "                    name TEXT,\n",
    "                    satisfaction FLOAT,\n",
    "                    price INT,\n",
    "                    location TEXT,\n",
    "                    checkin_date DATETIME,\n",
    "                    weekday CHAR(100)\n",
    "                )''')\n",
    "\n",
    "cursor.execute('''CREATE TABLE IF NOT EXISTS flights (\n",
    "                    ID INT PRIMARY KEY,\n",
    "                    class CHAR(50),\n",
    "                    price INT,\n",
    "                    departure_airport TEXT,\n",
    "                    arrival_airport TEXT,\n",
    "                    flight_time INT,\n",
    "                    stopovers INT,\n",
    "                    departure_time DATETIME,\n",
    "                    arrival_time DATETIME,\n",
    "                    date DATETIME,\n",
    "                    weekday CHAR(100),\n",
    "                    airline TEXT\n",
    "                )''')\n",
    "\n"
   ]
  },
  {
   "cell_type": "code",
   "execution_count": null,
   "metadata": {},
   "outputs": [],
   "source": [
    "\n",
    "# Insert data into the table\n",
    "cursor.execute(\"INSERT INTO students (name, age) VALUES (?, ?)\", ('Alice', 25))\n",
    "cursor.execute(\"INSERT INTO students (name, age) VALUES (?, ?)\", ('Bob', 30))\n",
    "cursor.execute(\"INSERT INTO students (name, age) VALUES (?, ?)\", ('Charlie', 22))\n",
    "\n",
    "# Save (commit) the changes\n",
    "conn.commit()\n",
    "\n",
    "# Query the data from the table\n",
    "cursor.execute(\"SELECT * FROM students\")\n",
    "rows = cursor.fetchall()\n",
    "\n",
    "# Print the results\n",
    "for row in rows:\n",
    "    print(row)\n",
    "\n",
    "# Close the connection to the database\n",
    "conn.close()"
   ]
  }
 ],
 "metadata": {
  "kernelspec": {
   "display_name": "tp1_env",
   "language": "python",
   "name": "python3"
  },
  "language_info": {
   "codemirror_mode": {
    "name": "ipython",
    "version": 3
   },
   "file_extension": ".py",
   "mimetype": "text/x-python",
   "name": "python",
   "nbconvert_exporter": "python",
   "pygments_lexer": "ipython3",
   "version": "3.10.12"
  },
  "orig_nbformat": 4
 },
 "nbformat": 4,
 "nbformat_minor": 2
}
