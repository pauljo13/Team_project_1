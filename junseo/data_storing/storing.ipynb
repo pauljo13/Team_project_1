{
 "cells": [
  {
   "cell_type": "code",
   "execution_count": 32,
   "metadata": {},
   "outputs": [
    {
     "name": "stdout",
     "output_type": "stream",
     "text": [
      "<class 'pandas.core.frame.DataFrame'>\n",
      "RangeIndex: 28301 entries, 0 to 28300\n",
      "Data columns (total 13 columns):\n",
      " #   Column         Non-Null Count  Dtype \n",
      "---  ------         --------------  ----- \n",
      " 0   departuredate  28301 non-null  object\n",
      " 1   departureday   28301 non-null  object\n",
      " 2   departuretime  28301 non-null  object\n",
      " 3   class          28301 non-null  object\n",
      " 4   arrivaldate    28301 non-null  object\n",
      " 5   arrivalday     28298 non-null  object\n",
      " 6   arrivaltime    28301 non-null  object\n",
      " 7   flighttime     28301 non-null  object\n",
      " 8   flighttype     28301 non-null  int64 \n",
      " 9   price          28301 non-null  object\n",
      " 10  airlines       28301 non-null  object\n",
      " 11  portd          28301 non-null  object\n",
      " 12  porta          28301 non-null  object\n",
      "dtypes: int64(1), object(12)\n",
      "memory usage: 2.8+ MB\n"
     ]
    }
   ],
   "source": [
    "import pandas as pd\n",
    "import json\n",
    "import time\n",
    "from datetime import datetime\n",
    "\n",
    "df1 = pd.read_csv('KRtoLA.csv')\n",
    "df1.info()\n",
    "\n"
   ]
  },
  {
   "cell_type": "code",
   "execution_count": 33,
   "metadata": {},
   "outputs": [
    {
     "ename": "ValueError",
     "evalue": "hour must be in 0..23",
     "output_type": "error",
     "traceback": [
      "\u001b[1;31m---------------------------------------------------------------------------\u001b[0m",
      "\u001b[1;31mValueError\u001b[0m                                Traceback (most recent call last)",
      "Cell \u001b[1;32mIn[33], line 19\u001b[0m\n\u001b[0;32m     16\u001b[0m ndf1 \u001b[39m=\u001b[39m df1\u001b[39m.\u001b[39mcopy()\n\u001b[0;32m     18\u001b[0m ndf1[\u001b[39m'\u001b[39m\u001b[39mdeparturedate\u001b[39m\u001b[39m'\u001b[39m] \u001b[39m=\u001b[39m ndf1[\u001b[39m'\u001b[39m\u001b[39mdeparturedate\u001b[39m\u001b[39m'\u001b[39m]\u001b[39m.\u001b[39mapply(apply_date)\n\u001b[1;32m---> 19\u001b[0m ndf1[\u001b[39m'\u001b[39m\u001b[39mdeparturetime\u001b[39m\u001b[39m'\u001b[39m] \u001b[39m=\u001b[39m ndf1[\u001b[39m'\u001b[39;49m\u001b[39mdeparturetime\u001b[39;49m\u001b[39m'\u001b[39;49m]\u001b[39m.\u001b[39;49mapply(apply_time)\n\u001b[0;32m     20\u001b[0m ndf1\n",
      "File \u001b[1;32mc:\\Users\\user\\.conda\\envs\\tp1_env\\lib\\site-packages\\pandas\\core\\series.py:4630\u001b[0m, in \u001b[0;36mSeries.apply\u001b[1;34m(self, func, convert_dtype, args, **kwargs)\u001b[0m\n\u001b[0;32m   4520\u001b[0m \u001b[39mdef\u001b[39;00m \u001b[39mapply\u001b[39m(\n\u001b[0;32m   4521\u001b[0m     \u001b[39mself\u001b[39m,\n\u001b[0;32m   4522\u001b[0m     func: AggFuncType,\n\u001b[1;32m   (...)\u001b[0m\n\u001b[0;32m   4525\u001b[0m     \u001b[39m*\u001b[39m\u001b[39m*\u001b[39mkwargs,\n\u001b[0;32m   4526\u001b[0m ) \u001b[39m-\u001b[39m\u001b[39m>\u001b[39m DataFrame \u001b[39m|\u001b[39m Series:\n\u001b[0;32m   4527\u001b[0m \u001b[39m    \u001b[39m\u001b[39m\"\"\"\u001b[39;00m\n\u001b[0;32m   4528\u001b[0m \u001b[39m    Invoke function on values of Series.\u001b[39;00m\n\u001b[0;32m   4529\u001b[0m \n\u001b[1;32m   (...)\u001b[0m\n\u001b[0;32m   4628\u001b[0m \u001b[39m    dtype: float64\u001b[39;00m\n\u001b[0;32m   4629\u001b[0m \u001b[39m    \"\"\"\u001b[39;00m\n\u001b[1;32m-> 4630\u001b[0m     \u001b[39mreturn\u001b[39;00m SeriesApply(\u001b[39mself\u001b[39;49m, func, convert_dtype, args, kwargs)\u001b[39m.\u001b[39;49mapply()\n",
      "File \u001b[1;32mc:\\Users\\user\\.conda\\envs\\tp1_env\\lib\\site-packages\\pandas\\core\\apply.py:1025\u001b[0m, in \u001b[0;36mSeriesApply.apply\u001b[1;34m(self)\u001b[0m\n\u001b[0;32m   1022\u001b[0m     \u001b[39mreturn\u001b[39;00m \u001b[39mself\u001b[39m\u001b[39m.\u001b[39mapply_str()\n\u001b[0;32m   1024\u001b[0m \u001b[39m# self.f is Callable\u001b[39;00m\n\u001b[1;32m-> 1025\u001b[0m \u001b[39mreturn\u001b[39;00m \u001b[39mself\u001b[39;49m\u001b[39m.\u001b[39;49mapply_standard()\n",
      "File \u001b[1;32mc:\\Users\\user\\.conda\\envs\\tp1_env\\lib\\site-packages\\pandas\\core\\apply.py:1076\u001b[0m, in \u001b[0;36mSeriesApply.apply_standard\u001b[1;34m(self)\u001b[0m\n\u001b[0;32m   1074\u001b[0m     \u001b[39melse\u001b[39;00m:\n\u001b[0;32m   1075\u001b[0m         values \u001b[39m=\u001b[39m obj\u001b[39m.\u001b[39mastype(\u001b[39mobject\u001b[39m)\u001b[39m.\u001b[39m_values\n\u001b[1;32m-> 1076\u001b[0m         mapped \u001b[39m=\u001b[39m lib\u001b[39m.\u001b[39;49mmap_infer(\n\u001b[0;32m   1077\u001b[0m             values,\n\u001b[0;32m   1078\u001b[0m             f,\n\u001b[0;32m   1079\u001b[0m             convert\u001b[39m=\u001b[39;49m\u001b[39mself\u001b[39;49m\u001b[39m.\u001b[39;49mconvert_dtype,\n\u001b[0;32m   1080\u001b[0m         )\n\u001b[0;32m   1082\u001b[0m \u001b[39mif\u001b[39;00m \u001b[39mlen\u001b[39m(mapped) \u001b[39mand\u001b[39;00m \u001b[39misinstance\u001b[39m(mapped[\u001b[39m0\u001b[39m], ABCSeries):\n\u001b[0;32m   1083\u001b[0m     \u001b[39m# GH#43986 Need to do list(mapped) in order to get treated as nested\u001b[39;00m\n\u001b[0;32m   1084\u001b[0m     \u001b[39m#  See also GH#25959 regarding EA support\u001b[39;00m\n\u001b[0;32m   1085\u001b[0m     \u001b[39mreturn\u001b[39;00m obj\u001b[39m.\u001b[39m_constructor_expanddim(\u001b[39mlist\u001b[39m(mapped), index\u001b[39m=\u001b[39mobj\u001b[39m.\u001b[39mindex)\n",
      "File \u001b[1;32mc:\\Users\\user\\.conda\\envs\\tp1_env\\lib\\site-packages\\pandas\\_libs\\lib.pyx:2834\u001b[0m, in \u001b[0;36mpandas._libs.lib.map_infer\u001b[1;34m()\u001b[0m\n",
      "Cell \u001b[1;32mIn[33], line 15\u001b[0m, in \u001b[0;36mapply_time\u001b[1;34m(x)\u001b[0m\n\u001b[0;32m     12\u001b[0m now \u001b[39m=\u001b[39m datetime\u001b[39m.\u001b[39mnow()\n\u001b[0;32m     14\u001b[0m \u001b[39m# Create the datetime object with the adjusted hour and minute\u001b[39;00m\n\u001b[1;32m---> 15\u001b[0m \u001b[39mreturn\u001b[39;00m now\u001b[39m.\u001b[39;49mreplace(hour\u001b[39m=\u001b[39;49mhour, minute\u001b[39m=\u001b[39;49mminute, second\u001b[39m=\u001b[39;49m\u001b[39m0\u001b[39;49m, microsecond\u001b[39m=\u001b[39;49m\u001b[39m0\u001b[39;49m)\n",
      "\u001b[1;31mValueError\u001b[0m: hour must be in 0..23"
     ]
    }
   ],
   "source": [
    "def apply_date(x):\n",
    "    month_day = datetime.strptime(x, '%m-%d').date()\n",
    "    \n",
    "    # Set the year to 2023 and create the final datetime object\n",
    "    return datetime(2023, month_day.month, month_day.day)\n",
    "\n",
    "def apply_time(x):\n",
    "    ampm, time =x.split(' ')\n",
    "    hour, minute = map(int, time.split(':'))\n",
    "    if ampm == '오후':\n",
    "        hour += 12\n",
    "    now = datetime.now()\n",
    "    \n",
    "    # Create the datetime object with the adjusted hour and minute\n",
    "    return now.replace(hour=hour, minute=minute, second=0, microsecond=0)\n",
    "ndf1 = df1.copy()\n",
    "\n",
    "ndf1['departuredate'] = ndf1['departuredate'].apply(apply_date)\n",
    "ndf1['departuretime'] = ndf1['departuretime'].apply(apply_time)\n",
    "ndf1"
   ]
  },
  {
   "cell_type": "markdown",
   "metadata": {},
   "source": [
    "CREATE Accommodation (\n",
    "    ID INT\n",
    "    시설 이름 CHAR(100)\n",
    "    별점 INT\n",
    "    시설 유형 CHAR(100)\n",
    "    가격 (INT)\n",
    "    위치 CHAR(100)\n",
    "    체크인 날짜 DATETIME\n",
    "    요일 CHAR(100)\n",
    ");\n",
    "\n",
    "CREATE TABLE Flights (\n",
    "    ID INT\n",
    "    클래스 CHAR(50)\n",
    "    가격 (INT)\n",
    "    출발 공항 CHAR(100)\n",
    "    도착 공항 CHAR(100)\n",
    "    소요 시간 TIME\n",
    "    경유 횟수 INT\n",
    "    출발 시간 TIME\n",
    "    도착 시간 TIME\n",
    "    날짜 DATETIME\n",
    "    요일 CHAR(100)\n",
    "    항공사 CHAR(100)\n",
    ");\n"
   ]
  },
  {
   "cell_type": "code",
   "execution_count": null,
   "metadata": {},
   "outputs": [],
   "source": [
    "import sqlite3\n",
    "\n",
    "# Create a connection to the database (if it doesn't exist, a new one will be created)\n",
    "conn = sqlite3.connect('Database.db')\n",
    "\n",
    "# Create a cursor object to interact with the database\n",
    "cursor = conn.cursor()\n",
    "\n",
    "# Create a table (if it doesn't exist)\n",
    "cursor.execute('''CREATE TABLE IF NOT EXISTS accommodation (\n",
    "                    ID INT PRIMARY KEY,\n",
    "                    name TEXT,\n",
    "                    satisfaction FLOAT,\n",
    "                    price INT,\n",
    "                    location TEXT,\n",
    "                    checkin_date DATETIME,\n",
    "                    weekday CHAR(100)\n",
    "                )''')\n",
    "\n",
    "cursor.execute('''CREATE TABLE IF NOT EXISTS flights (\n",
    "                    ID INT PRIMARY KEY,\n",
    "                    class CHAR(50),\n",
    "                    price INT,\n",
    "                    departure_airport TEXT,\n",
    "                    arrival_airport TEXT,\n",
    "                    flight_time INT,\n",
    "                    stopovers INT,\n",
    "                    departure_time DATETIME,\n",
    "                    arrival_time DATETIME,\n",
    "                    date DATETIME,\n",
    "                    weekday CHAR(100),\n",
    "                    airline TEXT\n",
    "                )''')\n",
    "\n"
   ]
  },
  {
   "cell_type": "code",
   "execution_count": null,
   "metadata": {},
   "outputs": [],
   "source": [
    "\n",
    "# Insert data into the table\n",
    "cursor.execute(\"INSERT INTO students (name, age) VALUES (?, ?)\", ('Alice', 25))\n",
    "cursor.execute(\"INSERT INTO students (name, age) VALUES (?, ?)\", ('Bob', 30))\n",
    "cursor.execute(\"INSERT INTO students (name, age) VALUES (?, ?)\", ('Charlie', 22))\n",
    "\n",
    "# Save (commit) the changes\n",
    "conn.commit()\n",
    "\n",
    "# Query the data from the table\n",
    "cursor.execute(\"SELECT * FROM students\")\n",
    "rows = cursor.fetchall()\n",
    "\n",
    "# Print the results\n",
    "for row in rows:\n",
    "    print(row)\n",
    "\n",
    "# Close the connection to the database\n",
    "conn.close()"
   ]
  }
 ],
 "metadata": {
  "kernelspec": {
   "display_name": "tp1_env",
   "language": "python",
   "name": "python3"
  },
  "language_info": {
   "codemirror_mode": {
    "name": "ipython",
    "version": 3
   },
   "file_extension": ".py",
   "mimetype": "text/x-python",
   "name": "python",
   "nbconvert_exporter": "python",
   "pygments_lexer": "ipython3",
   "version": "3.10.12"
  },
  "orig_nbformat": 4
 },
 "nbformat": 4,
 "nbformat_minor": 2
}
