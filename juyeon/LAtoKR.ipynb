{
 "cells": [
  {
   "cell_type": "code",
   "execution_count": 2,
   "metadata": {},
   "outputs": [],
   "source": [
    "from selenium import webdriver\n",
    "from selenium.webdriver.chrome.options import Options\n",
    "\n",
    "options = Options()\n",
    "options.page_load_strategy = 'normal'\n",
    "driver = webdriver.Chrome(options=options)\n",
    "driver.get('http://www.google.com')\n",
    "driver.quit()"
   ]
  },
  {
   "attachments": {},
   "cell_type": "markdown",
   "metadata": {},
   "source": [
    "### request 테스트(한 페이지만 로드해서 정보 가져오기에 좋음_selenium보다 빠름)\n",
    "- 페이지 내에서 날짜, 좌석등급 정보를 바꿔줘야 하기 때문에 이번 상황에는 부적절"
   ]
  },
  {
   "cell_type": "code",
   "execution_count": null,
   "metadata": {},
   "outputs": [
    {
     "data": {
      "text/plain": [
       "200"
      ]
     },
     "metadata": {},
     "output_type": "display_data"
    }
   ],
   "source": [
    "import requests\n",
    "\n",
    "url = 'https://www.google.com/travel/flights/search?tfs=CBwQAhoqEgoyMDIzLTA5LTAxag4IAxIKL20vMDMwcWIzdHIMCAMSCC9tLzBoc3FmQAFIAXABggELCP___________wGYAQI&tfu=EgYIARABGAA'\n",
    "response = requests.get(url)\n",
    "response.status_code"
   ]
  },
  {
   "attachments": {},
   "cell_type": "markdown",
   "metadata": {},
   "source": [
    "### selenium(페이지 내에서 선택, 클릭 등이 필요할 경우 사용하기 좋음)"
   ]
  },
  {
   "cell_type": "code",
   "execution_count": 406,
   "metadata": {},
   "outputs": [],
   "source": [
    "from bs4 import BeautifulSoup\n",
    "import time\n",
    "from selenium.webdriver.common.by import By\n",
    "\n",
    "options = Options()\n",
    "# options.page_load_strategy = 'normal'\n",
    "driver = webdriver.Chrome(options=options)\n",
    "driver.get('https://www.google.com/travel/flights/search?tfs=CBwQAhoqEgoyMDIzLTA5LTAxag4IAxIKL20vMDMwcWIzdHIMCAMSCC9tLzBoc3FmQAFIAXABggELCP___________wGYAQI&tfu=EgYIARABGAA')\n",
    "\n",
    "time.sleep(1)\n",
    "\n",
    "tckt = []\n",
    "data = []\n",
    "week = ['월', '화', '수', '목', '금', '토', '일']\n",
    "d, j = 1, 4\n",
    "\n",
    "for _ in range(30):\n",
    "    for i in range(1,5):\n",
    "\n",
    "        # 좌석등급 바꾸기\n",
    "        gbox_path = '//*[@id=\"yDmH0d\"]/c-wiz[2]/div/div[2]/c-wiz/div[1]/c-wiz/div[2]/div[1]/div/div[1]/div[3]/div/div/div'\n",
    "        gbox = driver.find_element(By.XPATH, gbox_path)\n",
    "        gbox.click()\n",
    "        g_path = f'//*[@id=\"yDmH0d\"]/c-wiz[2]/div/div[2]/c-wiz/div[1]/c-wiz/div[2]/div[1]/div/div[1]/div[3]/div/div/div/div[2]/ul/li[{i}]'\n",
    "        g = driver.find_element(By.XPATH, g_path)\n",
    "        g.click()\n",
    "\n",
    "        time.sleep(1)\n",
    "\n",
    "        # 현재 페이지 파싱\n",
    "        html = driver.page_source\n",
    "        soup = BeautifulSoup(html, 'html.parser')\n",
    "\n",
    "        # 항공권 정보 긁어오기\n",
    "        ticket_box = soup.select('ul.Rk10dc')\n",
    "        tickets = ticket_box[0].select('li>div>div.yR1fYc>div>div:nth-of-type(2)')\n",
    "        tickets.extend(ticket_box[1].select('li>div>div.yR1fYc>div>div:nth-of-type(2)'))\n",
    "\n",
    "        # 좌석 등급\n",
    "        grade = soup.select_one('span#i19').text\n",
    "        # 날짜\n",
    "        day = f'9월 {d}일 ({week[j]})'\n",
    "\n",
    "        tckt = [day, grade]\n",
    "\n",
    "        for one in tickets:\n",
    "            for info in one.select('span, div'):\n",
    "                if info.text == '':\n",
    "                    pass\n",
    "                elif info.text in tckt:\n",
    "                    pass\n",
    "                else:\n",
    "                    tckt.append(info.text)\n",
    "\n",
    "                if info.get('aria-label') is not None and info.get('aria-label').startswith('기착'):\n",
    "                    tckt.append(info.get('aria-label'))\n",
    "            data.append(tckt)\n",
    "            tckt = [day, grade]\n",
    "\n",
    "        time.sleep(1)\n",
    "\n",
    "\n",
    "    # 날짜 바꾸기\n",
    "    nd_path = '//*[@id=\"yDmH0d\"]/c-wiz[2]/div/div[2]/c-wiz/div[1]/c-wiz/div[2]/div[1]/div/div[2]/div[2]/div/div/div[1]/div/div/div[1]/div/div[1]/div/div[3]'\n",
    "    next_day = driver.find_element(By.XPATH, nd_path)\n",
    "    next_day.click()\n",
    "    \n",
    "    d += 1\n",
    "    j += 1\n",
    "\n",
    "    if j > 6: j = 0\n",
    "\n",
    "    time.sleep(1)\n",
    "\n",
    "driver.quit()"
   ]
  },
  {
   "attachments": {},
   "cell_type": "markdown",
   "metadata": {},
   "source": [
    "### 좌석 등급 정보 가져오기, 날짜 정보 가져오기\n",
    "- 날짜는 html 내에서 업데이트가 되지 않고 첫 페이지의 날짜로만 표시됨"
   ]
  },
  {
   "cell_type": "code",
   "execution_count": 279,
   "metadata": {},
   "outputs": [
    {
     "data": {
      "text/plain": [
       "'9월 1일 (금)'"
      ]
     },
     "execution_count": 279,
     "metadata": {},
     "output_type": "execute_result"
    }
   ],
   "source": [
    "grade = soup.select_one('span#i19').text\n",
    "grade\n",
    "# 날짜가 html상에서 업데이트 되지 않아 수동으로 업데이트\n",
    "day = soup.select_one('input.TP4Lpb.eoY5cb.j0Ppje').get('value')\n",
    "day"
   ]
  },
  {
   "attachments": {},
   "cell_type": "markdown",
   "metadata": {},
   "source": [
    "- 수동으로 페이지가 바뀔 때마다 날짜가 입력되도록 함"
   ]
  },
  {
   "cell_type": "code",
   "execution_count": null,
   "metadata": {},
   "outputs": [],
   "source": [
    "week = ['월', '화', '수', '목', '금', '토', '일']\n",
    "i, j = 1, 4\n",
    "for _ in range(10):\n",
    "    if j > 6: j = 0\n",
    "\n",
    "    day = f'9월 {i}일 ({week[j]})'\n",
    "    i += 1\n",
    "    j += 1\n",
    "\n",
    "    print(day)"
   ]
  },
  {
   "attachments": {},
   "cell_type": "markdown",
   "metadata": {},
   "source": [
    "### ticket정보 list 저장\n",
    "- ticket정보를 리스트로 저장하는 코드를 테스트 해보는 코드"
   ]
  },
  {
   "cell_type": "code",
   "execution_count": 573,
   "metadata": {},
   "outputs": [],
   "source": [
    "# ticket_box = soup.select('ul.Rk10dc')\n",
    "# tickets = ticket_box[0].select('li>div>div.yR1fYc>div>div:nth-of-type(2)')\n",
    "# tickets.extend(ticket_box[1].select('li>div>div.yR1fYc>div>div:nth-of-type(2)'))\n",
    "\n",
    "# 티켓별 정보를 tckt 리스트로 불러와 data 리스트 안에 넣어줌\n",
    "# data = []\n",
    "# tckt = [day, grade]\n",
    "\n",
    "# for one in tickets:\n",
    "#     for info in one.select('span, div'):\n",
    "#         if info.text not in tckt:\n",
    "#             tckt.append(info.text)\n",
    "#         elif info.text == '':\n",
    "#             pass\n",
    "#         else:\n",
    "#             pass\n",
    "#     data.append(tckt)\n",
    "#     tckt = [day, grade]"
   ]
  },
  {
   "attachments": {},
   "cell_type": "markdown",
   "metadata": {},
   "source": [
    "- 기착시간 가져오기"
   ]
  },
  {
   "cell_type": "code",
   "execution_count": 333,
   "metadata": {},
   "outputs": [
    {
     "name": "stdout",
     "output_type": "stream",
     "text": [
      "기착 시간(1/2)은 샌프란시스코의 샌프란시스코 국제공항에서 5시간입니다. 기착 시간(2/2)은 도쿄도의 도쿄 국제공항에서 4시간 30분입니다.\n"
     ]
    }
   ],
   "source": [
    "tickets[9].select('div')\n",
    "for i in tickets[9].select('div'):\n",
    "    if i.get('aria-label') is not None and i.get('aria-label').startswith('기착'):\n",
    "        print(i.get('aria-label'))"
   ]
  },
  {
   "attachments": {},
   "cell_type": "markdown",
   "metadata": {},
   "source": [
    "### 데이터프레임으로 만들고 정제"
   ]
  },
  {
   "attachments": {},
   "cell_type": "markdown",
   "metadata": {},
   "source": [
    "- 여러 가지 시도를 위해 깊은 복사를 해준다."
   ]
  },
  {
   "cell_type": "code",
   "execution_count": 428,
   "metadata": {},
   "outputs": [],
   "source": [
    "import copy\n",
    "data1 = copy.deepcopy(data)"
   ]
  },
  {
   "attachments": {},
   "cell_type": "markdown",
   "metadata": {},
   "source": [
    "- 정보를 추출하는 과정에서 제대로 추출되지 않는 경우를 찾아 해당 인덱스의 항목 내용을 확인해 봄."
   ]
  },
  {
   "cell_type": "code",
   "execution_count": 352,
   "metadata": {},
   "outputs": [
    {
     "data": {
      "text/plain": [
       "['야간 기착',\n",
       " 'OAK에서 SJC(으)로 환승',\n",
       " '공항 변경',\n",
       " '기착 시간(1/2)은 산호세에서 야간에 9시간 55분입니다. 오클랜드 국제공항발 노르만 Y. 미네타 산호세 국제공항행은 여기에서 환승합니다. 기착 시간(2/2)은 호놀룰루의 호놀룰루 국제공항에서 3시간 55분입니다.',\n",
       " 'CO2 934kg+23% 배출',\n",
       " 'CO2 934kg',\n",
       " '+23% 배출',\n",
       " '이 항공편 가격에는 기내 선반 이용 요금이 포함되지 않습니다. 기내 수하물이 필요한 경우 수하물 필터를 사용하여 가격을 업데이트하세요.₩940,554',\n",
       " '이 항공편 가격에는 기내 선반 이용 요금이 포함되지 않습니다. 기내 수하물이 필요한 경우 수하물 필터를 사용하여 가격을 업데이트하세요.',\n",
       " '수하물 필터',\n",
       " '₩940,554']"
      ]
     },
     "execution_count": 352,
     "metadata": {},
     "output_type": "execute_result"
    }
   ],
   "source": [
    "data1[0]\n",
    "data1[4][30:]\n",
    "data1[9][30:]"
   ]
  },
  {
   "attachments": {},
   "cell_type": "markdown",
   "metadata": {},
   "source": [
    "- 각 정보 추출하는 코드를 테스트"
   ]
  },
  {
   "cell_type": "code",
   "execution_count": null,
   "metadata": {},
   "outputs": [],
   "source": [
    "# # 경유 횟수 추출('₩'로 바꿔주어 가격 추출 가능)\n",
    "# for i in data1:\n",
    "#     for j in i:\n",
    "#         if j.startswith('경유') and len(j)==5:\n",
    "#             print(j[-2])\n",
    "#         elif j.startswith('직항'):\n",
    "#             print(0)\n",
    "\n",
    "# # 소요 시간 추출\n",
    "# for i in data1:\n",
    "#     for j in i:\n",
    "#         if j[:2].isdigit() and len(j) < 9:\n",
    "#             print(j)\n",
    "\n",
    "# # 출발.도착.환승 공항 추출\n",
    "# import re\n",
    "# for i in data1:\n",
    "#     for j in i:\n",
    "#         if (re.match(\"^[a-zA-Z]+.*\", j) and len(j) == 3):\n",
    "#             print(j)\n",
    "#         if (re.match(\"^[a-zA-Z]+.*\", j) and j.endswith('환승')):\n",
    "#             print(j[:3],j[6:9])\n",
    "\n",
    "# # 항공사 추출(11번째 항목에 따라 항공사 정보를 담은 인덱스가 달라짐)\n",
    "# for i in data1:\n",
    "#     if i[11].startswith('함께'):\n",
    "#         print(i[15])\n",
    "#     else:\n",
    "#         print(i[11])\n",
    "\n",
    "# # 날짜와 요일 정보를 따로 불러오기\n",
    "# for i in data1:\n",
    "#     print(i[0][:-4])  # 날짜\n",
    "#     print(i[0][-2:-1])  # 요일\n",
    "\n",
    "# # 기착 시간 불러오기\n",
    "# import re\n",
    "# for i in data1:\n",
    "#     for j in i:\n",
    "#         if j.startswith('기착'):\n",
    "#             j = j.split('. ')\n",
    "#             for k in j:\n",
    "#                 if k.startswith('기착'):\n",
    "#                     numbers = re.findall(r'[0-9]{1,2}',k[12:])  # {1,2} -> 자릿수\n",
    "#                     if len(numbers) == 1:\n",
    "#                         print(f\"{numbers[0]}:00\")  # 기착 시간(시간)\n",
    "#                     elif len(numbers) == 2:\n",
    "#                         print(f\"{numbers[0]}:{numbers[1]}\")  # 기착 시간(시간+분)\n",
    "#             print('\\n')\n",
    "\n",
    "# # 도착 날짜,요일,시간\n",
    "# for i in data1:\n",
    "#     j = i[10].split(' ')\n",
    "#     print(j[0],j[1])\n",
    "#     print(j[2][1:-2])\n",
    "#     print(j[3],j[4])"
   ]
  },
  {
   "attachments": {},
   "cell_type": "markdown",
   "metadata": {},
   "source": [
    "- 최종 실행 코드\n",
    "    - 아래 코드를 실행하여 새로운 리스트에 다시 정리해준다."
   ]
  },
  {
   "cell_type": "code",
   "execution_count": null,
   "metadata": {},
   "outputs": [],
   "source": [
    "import re\n",
    "\n",
    "one_t = []\n",
    "data_li = []\n",
    "\n",
    "for i in data1:\n",
    "    one_t.append(i[0][:-4])  # 출발 날짜\n",
    "    one_t.append(i[0][-2:-1])  # 출발 요일\n",
    "    one_t.append(i[5])  # 출발 시간\n",
    "    one_t.append(i[1])  # 좌석 등급\n",
    "\n",
    "    arrival = i[10].split(' ')  # 도착 정보\n",
    "    one_t.append(arrival[0] + ' ' + arrival[1])  # 도착 날짜\n",
    "    one_t.append(arrival[2][1:-2])  # 도착 요일\n",
    "    one_t.append(arrival[3] + ' ' + arrival[4])  # 도착 시간\n",
    "\n",
    "    for j in i:\n",
    "        if j.startswith('경유') and len(j)==5:\n",
    "            one_t.append(j[-2])  # 경유 횟수\n",
    "        elif j.startswith('직항'):\n",
    "            one_t.append(0)  # 직항\n",
    "        elif j.startswith('₩'):\n",
    "            one_t.append(j[1:])  # 가격\n",
    "        elif j[:2].isdigit() and (j.endswith('분') or j.endswith('시간')):\n",
    "            one_t.append(j)  # 소요 시간\n",
    "\n",
    "    # 항공사\n",
    "    if i[11].startswith('함께'):\n",
    "        one_t.append(i[15])\n",
    "    else:\n",
    "        one_t.append(i[11])\n",
    "\n",
    "    for j in i:\n",
    "        if (re.match(\"^[a-zA-Z]+.*\", j) and len(j) == 3):\n",
    "            if j in ['GMP','ICN','LAX','HUR']:\n",
    "                one_t.append(j)# 출발.도착 공항\n",
    "            else:\n",
    "                pass\n",
    "        # elif (re.match(\"^[a-zA-Z]+.*\", j) and j.endswith('환승')):\n",
    "        #     one_t.append(f'환승 도착 {j[:3]}')# 환승 도착 공항\n",
    "        #     one_t.append(f'환승 출발 {j[6:9]}')# 환승 출발 공항\n",
    "\n",
    "    # for j in i:\n",
    "    #     if j.startswith('기착'):\n",
    "    #         j = j.split('. ')\n",
    "    #         for k in j:\n",
    "    #             if k.startswith('기착'):\n",
    "    #                 numbers = re.findall(r'[0-9]{1,2}',k[12:])\n",
    "    #                 if len(numbers) == 1:\n",
    "    #                     one_t.append(f\"{numbers[0]}:00\")  # 기착 시간(시간)\n",
    "    #                 elif len(numbers) == 2:\n",
    "    #                     one_t.append(f\"{numbers[0]}:{numbers[1]}\")  # 기착 시간(시간+분)\n",
    "\n",
    "    data_li.append(one_t)\n",
    "    one_t = []\n",
    "\n",
    "data_li"
   ]
  },
  {
   "attachments": {},
   "cell_type": "markdown",
   "metadata": {},
   "source": [
    "- 정리한 리스트를 데이터 프레임 형태로 저장"
   ]
  },
  {
   "cell_type": "code",
   "execution_count": 515,
   "metadata": {},
   "outputs": [],
   "source": [
    "import pandas as pd\n",
    "columns = ['departure_date','departure_day','departure_time','class','arrival_date','arrival_day','arrival_time','flight_time','flight_type','price','airlines','port_d','port_a']\n",
    "df = pd.DataFrame(data_li, columns=columns)"
   ]
  },
  {
   "attachments": {},
   "cell_type": "markdown",
   "metadata": {},
   "source": [
    "- df 파일 복사"
   ]
  },
  {
   "cell_type": "code",
   "execution_count": 527,
   "metadata": {},
   "outputs": [],
   "source": [
    "df1 = df.copy()"
   ]
  },
  {
   "attachments": {},
   "cell_type": "markdown",
   "metadata": {},
   "source": [
    "- 원하는 형식에 맞게 바꾸고 csv 파일로 내보냄"
   ]
  },
  {
   "cell_type": "code",
   "execution_count": null,
   "metadata": {},
   "outputs": [],
   "source": [
    "# # 출발 날짜 형식 09-01 형태로 바꿔주기\n",
    "# for i in range(len(df1['departure_date'])):\n",
    "#     if len(df1['departure_date'][i]) == 5:\n",
    "#         month = int(df1['departure_date'][i][0])\n",
    "#         day = int(df1['departure_date'][i][3])\n",
    "#     else:\n",
    "#         month = int(df1['departure_date'][i][0])\n",
    "#         day = int(df1['departure_date'][i][3:5])\n",
    "\n",
    "#     df1['departure_date'][i] = f\"{month:02}-{day:02}\"\n",
    "\n",
    "\n",
    "\n",
    "# # 도착 날짜 형식 09-01 형태로 바꿔주기\n",
    "# for i in range(len(df1['arrival_date'])):\n",
    "#     if len(df1['arrival_date'][i]) == 5:   # 9월 3일\n",
    "#         month = int(df1['arrival_date'][i][0])\n",
    "#         day = int(df1['arrival_date'][i][3])\n",
    "#     elif len(df1['arrival_date'][i]) == 6 and df1['arrival_date'][i][1].isdigit():  # 10월 1일\n",
    "#         month = int(df1['arrival_date'][i][:2])\n",
    "#         day = int(df1['arrival_date'][i][4])\n",
    "#     else:  # 9월 30일\n",
    "#         month = int(df1['arrival_date'][i][0])\n",
    "#         day = int(df1['arrival_date'][i][3:5])\n",
    "\n",
    "#     df1['arrival_date'][i] = f\"{month:02}-{day:02}\"\n",
    "\n",
    "\n",
    "\n",
    "\n",
    "# # 소요 시간 형식 00:00 형태로 바꿔주기\n",
    "# for i in range(len(df1['flight_time'])):\n",
    "#     if len(df1['flight_time'][i]) == 4:\n",
    "#         hour = int(df1['flight_time'][i][0:2])\n",
    "#     elif len(df1['flight_time'][i]) == 7:\n",
    "#         hour = int(df1['flight_time'][i][0:2])\n",
    "#         minutes = int(df1['flight_time'][i][5])\n",
    "#     else:\n",
    "#         hour = int(df1['flight_time'][i][0:2])\n",
    "#         minutes = int(df1['flight_time'][i][5:7])\n",
    "\n",
    "#     df1['flight_time'][i] = f\"{hour:02}:{minutes:02}\""
   ]
  },
  {
   "cell_type": "code",
   "execution_count": 532,
   "metadata": {},
   "outputs": [],
   "source": [
    "df1\n",
    "# df1.to_csv(\"LAtoKR.csv\")"
   ]
  },
  {
   "attachments": {},
   "cell_type": "markdown",
   "metadata": {},
   "source": [
    "- 저장된 csv파일 확인"
   ]
  },
  {
   "cell_type": "code",
   "execution_count": 533,
   "metadata": {},
   "outputs": [
    {
     "data": {
      "text/html": [
       "<div>\n",
       "<style scoped>\n",
       "    .dataframe tbody tr th:only-of-type {\n",
       "        vertical-align: middle;\n",
       "    }\n",
       "\n",
       "    .dataframe tbody tr th {\n",
       "        vertical-align: top;\n",
       "    }\n",
       "\n",
       "    .dataframe thead th {\n",
       "        text-align: right;\n",
       "    }\n",
       "</style>\n",
       "<table border=\"1\" class=\"dataframe\">\n",
       "  <thead>\n",
       "    <tr style=\"text-align: right;\">\n",
       "      <th></th>\n",
       "      <th>departure_date</th>\n",
       "      <th>departure_day</th>\n",
       "      <th>departure_time</th>\n",
       "      <th>class</th>\n",
       "      <th>arrival_date</th>\n",
       "      <th>arrival_day</th>\n",
       "      <th>arrival_time</th>\n",
       "      <th>flight_time</th>\n",
       "      <th>flight_type</th>\n",
       "      <th>price</th>\n",
       "      <th>airlines</th>\n",
       "      <th>port_d</th>\n",
       "      <th>port_a</th>\n",
       "    </tr>\n",
       "  </thead>\n",
       "  <tbody>\n",
       "    <tr>\n",
       "      <th>0</th>\n",
       "      <td>09-01</td>\n",
       "      <td>금</td>\n",
       "      <td>오후 5:00</td>\n",
       "      <td>이코노미</td>\n",
       "      <td>09-03</td>\n",
       "      <td>일</td>\n",
       "      <td>오후 12:45</td>\n",
       "      <td>27:45</td>\n",
       "      <td>1</td>\n",
       "      <td>868,975</td>\n",
       "      <td>중화항공</td>\n",
       "      <td>LAX</td>\n",
       "      <td>GMP</td>\n",
       "    </tr>\n",
       "    <tr>\n",
       "      <th>1</th>\n",
       "      <td>09-01</td>\n",
       "      <td>금</td>\n",
       "      <td>오후 12:50</td>\n",
       "      <td>이코노미</td>\n",
       "      <td>09-03</td>\n",
       "      <td>일</td>\n",
       "      <td>오전 5:50</td>\n",
       "      <td>25:45</td>\n",
       "      <td>1</td>\n",
       "      <td>920,168</td>\n",
       "      <td>필리핀항공</td>\n",
       "      <td>LAX</td>\n",
       "      <td>ICN</td>\n",
       "    </tr>\n",
       "    <tr>\n",
       "      <th>2</th>\n",
       "      <td>09-01</td>\n",
       "      <td>금</td>\n",
       "      <td>오후 12:15</td>\n",
       "      <td>이코노미</td>\n",
       "      <td>09-03</td>\n",
       "      <td>일</td>\n",
       "      <td>오전 11:00</td>\n",
       "      <td>30:45</td>\n",
       "      <td>1</td>\n",
       "      <td>981,879</td>\n",
       "      <td>에바항공아시아나</td>\n",
       "      <td>LAX</td>\n",
       "      <td>ICN</td>\n",
       "    </tr>\n",
       "    <tr>\n",
       "      <th>3</th>\n",
       "      <td>09-01</td>\n",
       "      <td>금</td>\n",
       "      <td>오전 10:50</td>\n",
       "      <td>이코노미</td>\n",
       "      <td>09-02</td>\n",
       "      <td>토</td>\n",
       "      <td>오후 3:45</td>\n",
       "      <td>12:55</td>\n",
       "      <td>0</td>\n",
       "      <td>1,136,994</td>\n",
       "      <td>Air Premia Inc</td>\n",
       "      <td>LAX</td>\n",
       "      <td>ICN</td>\n",
       "    </tr>\n",
       "    <tr>\n",
       "      <th>4</th>\n",
       "      <td>09-01</td>\n",
       "      <td>금</td>\n",
       "      <td>오후 12:40</td>\n",
       "      <td>이코노미</td>\n",
       "      <td>09-02</td>\n",
       "      <td>토</td>\n",
       "      <td>오후 5:35</td>\n",
       "      <td>12:55</td>\n",
       "      <td>0</td>\n",
       "      <td>1,202,299</td>\n",
       "      <td>아시아나</td>\n",
       "      <td>LAX</td>\n",
       "      <td>ICN</td>\n",
       "    </tr>\n",
       "    <tr>\n",
       "      <th>...</th>\n",
       "      <td>...</td>\n",
       "      <td>...</td>\n",
       "      <td>...</td>\n",
       "      <td>...</td>\n",
       "      <td>...</td>\n",
       "      <td>...</td>\n",
       "      <td>...</td>\n",
       "      <td>...</td>\n",
       "      <td>...</td>\n",
       "      <td>...</td>\n",
       "      <td>...</td>\n",
       "      <td>...</td>\n",
       "      <td>...</td>\n",
       "    </tr>\n",
       "    <tr>\n",
       "      <th>30988</th>\n",
       "      <td>09-30</td>\n",
       "      <td>토</td>\n",
       "      <td>오후 7:22</td>\n",
       "      <td>퍼스트</td>\n",
       "      <td>10-02</td>\n",
       "      <td>월</td>\n",
       "      <td>오후 10:25</td>\n",
       "      <td>35:03</td>\n",
       "      <td>2</td>\n",
       "      <td>23,621,801</td>\n",
       "      <td>유나이티드항공, 일본항공, 아시아나아메리칸항공, 전일본공수운항사: Skywest D...</td>\n",
       "      <td>GMP</td>\n",
       "      <td>NaN</td>\n",
       "    </tr>\n",
       "    <tr>\n",
       "      <th>30989</th>\n",
       "      <td>09-30</td>\n",
       "      <td>토</td>\n",
       "      <td>오전 12:30</td>\n",
       "      <td>퍼스트</td>\n",
       "      <td>10-01</td>\n",
       "      <td>일</td>\n",
       "      <td>오후 5:40</td>\n",
       "      <td>25:10</td>\n",
       "      <td>1</td>\n",
       "      <td>26,333,945</td>\n",
       "      <td>캐세이패시픽항공, 아시아나</td>\n",
       "      <td>LAX</td>\n",
       "      <td>ICN</td>\n",
       "    </tr>\n",
       "    <tr>\n",
       "      <th>30990</th>\n",
       "      <td>09-30</td>\n",
       "      <td>토</td>\n",
       "      <td>오후 11:30</td>\n",
       "      <td>퍼스트</td>\n",
       "      <td>10-02</td>\n",
       "      <td>월</td>\n",
       "      <td>오후 5:40</td>\n",
       "      <td>26:10</td>\n",
       "      <td>1</td>\n",
       "      <td>26,633,526</td>\n",
       "      <td>캐세이패시픽항공, 아시아나</td>\n",
       "      <td>LAX</td>\n",
       "      <td>ICN</td>\n",
       "    </tr>\n",
       "    <tr>\n",
       "      <th>30991</th>\n",
       "      <td>09-30</td>\n",
       "      <td>토</td>\n",
       "      <td>오전 12:30</td>\n",
       "      <td>퍼스트</td>\n",
       "      <td>10-02</td>\n",
       "      <td>월</td>\n",
       "      <td>오전 7:10</td>\n",
       "      <td>38:40</td>\n",
       "      <td>2</td>\n",
       "      <td>28,177,872</td>\n",
       "      <td>캐세이패시픽항공, 말레이항공</td>\n",
       "      <td>LAX</td>\n",
       "      <td>ICN</td>\n",
       "    </tr>\n",
       "    <tr>\n",
       "      <th>30992</th>\n",
       "      <td>09-30</td>\n",
       "      <td>토</td>\n",
       "      <td>오후 11:30</td>\n",
       "      <td>퍼스트</td>\n",
       "      <td>10-02</td>\n",
       "      <td>월</td>\n",
       "      <td>오후 5:00</td>\n",
       "      <td>25:30</td>\n",
       "      <td>1</td>\n",
       "      <td>30,747,592</td>\n",
       "      <td>캐세이패시픽항공, 대한항공</td>\n",
       "      <td>LAX</td>\n",
       "      <td>ICN</td>\n",
       "    </tr>\n",
       "  </tbody>\n",
       "</table>\n",
       "<p>30993 rows × 13 columns</p>\n",
       "</div>"
      ],
      "text/plain": [
       "      departure_date departure_day departure_time class arrival_date  \\\n",
       "0              09-01             금        오후 5:00  이코노미        09-03   \n",
       "1              09-01             금       오후 12:50  이코노미        09-03   \n",
       "2              09-01             금       오후 12:15  이코노미        09-03   \n",
       "3              09-01             금       오전 10:50  이코노미        09-02   \n",
       "4              09-01             금       오후 12:40  이코노미        09-02   \n",
       "...              ...           ...            ...   ...          ...   \n",
       "30988          09-30             토        오후 7:22   퍼스트        10-02   \n",
       "30989          09-30             토       오전 12:30   퍼스트        10-01   \n",
       "30990          09-30             토       오후 11:30   퍼스트        10-02   \n",
       "30991          09-30             토       오전 12:30   퍼스트        10-02   \n",
       "30992          09-30             토       오후 11:30   퍼스트        10-02   \n",
       "\n",
       "      arrival_day arrival_time flight_time  flight_type       price  \\\n",
       "0               일     오후 12:45       27:45            1     868,975   \n",
       "1               일      오전 5:50       25:45            1     920,168   \n",
       "2               일     오전 11:00       30:45            1     981,879   \n",
       "3               토      오후 3:45       12:55            0   1,136,994   \n",
       "4               토      오후 5:35       12:55            0   1,202,299   \n",
       "...           ...          ...         ...          ...         ...   \n",
       "30988           월     오후 10:25       35:03            2  23,621,801   \n",
       "30989           일      오후 5:40       25:10            1  26,333,945   \n",
       "30990           월      오후 5:40       26:10            1  26,633,526   \n",
       "30991           월      오전 7:10       38:40            2  28,177,872   \n",
       "30992           월      오후 5:00       25:30            1  30,747,592   \n",
       "\n",
       "                                                airlines port_d port_a  \n",
       "0                                                   중화항공    LAX    GMP  \n",
       "1                                                  필리핀항공    LAX    ICN  \n",
       "2                                               에바항공아시아나    LAX    ICN  \n",
       "3                                         Air Premia Inc    LAX    ICN  \n",
       "4                                                   아시아나    LAX    ICN  \n",
       "...                                                  ...    ...    ...  \n",
       "30988  유나이티드항공, 일본항공, 아시아나아메리칸항공, 전일본공수운항사: Skywest D...    GMP    NaN  \n",
       "30989                                     캐세이패시픽항공, 아시아나    LAX    ICN  \n",
       "30990                                     캐세이패시픽항공, 아시아나    LAX    ICN  \n",
       "30991                                    캐세이패시픽항공, 말레이항공    LAX    ICN  \n",
       "30992                                     캐세이패시픽항공, 대한항공    LAX    ICN  \n",
       "\n",
       "[30993 rows x 13 columns]"
      ]
     },
     "execution_count": 533,
     "metadata": {},
     "output_type": "execute_result"
    }
   ],
   "source": [
    "pd.read_csv('LAtoKR.csv', index_col=0)"
   ]
  }
 ],
 "metadata": {
  "kernelspec": {
   "display_name": "tp1",
   "language": "python",
   "name": "python3"
  },
  "language_info": {
   "codemirror_mode": {
    "name": "ipython",
    "version": 3
   },
   "file_extension": ".py",
   "mimetype": "text/x-python",
   "name": "python",
   "nbconvert_exporter": "python",
   "pygments_lexer": "ipython3",
   "version": "3.8.17"
  },
  "orig_nbformat": 4
 },
 "nbformat": 4,
 "nbformat_minor": 2
}
