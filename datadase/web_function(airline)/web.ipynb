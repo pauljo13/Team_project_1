{
 "cells": [
  {
   "cell_type": "code",
   "execution_count": 3,
   "metadata": {},
   "outputs": [
    {
     "name": "stderr",
     "output_type": "stream",
     "text": [
      "IProgress not found. Please update jupyter and ipywidgets. See https://ipywidgets.readthedocs.io/en/stable/user_install.html\n"
     ]
    }
   ],
   "source": [
    "import numpy as np \n",
    "import pandas as pd \n",
    "from sklearn.model_selection import train_test_split\n",
    "from sklearn.metrics import *\n",
    "from category_encoders import OrdinalEncoder\n",
    "from sklearn.pipeline import make_pipeline\n",
    "from sklearn.metrics import r2_score, mean_absolute_error\n",
    "from xgboost import XGBRegressor\n",
    "import pickle\n",
    "import random\n",
    "import shap\n",
    "from pdpbox.pdp import pdp_isolate, pdp_plot\n",
    "import datetime\n",
    "from datetime import datetime, timedelta"
   ]
  },
  {
   "cell_type": "code",
   "execution_count": 4,
   "metadata": {},
   "outputs": [
    {
     "data": {
      "text/plain": [
       "(<module 'numpy' from '/Users/bumsoojoe/anaconda3/envs/tp/lib/python3.8/site-packages/numpy/__init__.py'>,\n",
       " None)"
      ]
     },
     "execution_count": 4,
     "metadata": {},
     "output_type": "execute_result"
    }
   ],
   "source": [
    "random.seed(42)\n",
    "np,random.seed(42)"
   ]
  },
  {
   "cell_type": "code",
   "execution_count": 5,
   "metadata": {},
   "outputs": [],
   "source": [
    "## 비행시간 출력 함수\n",
    "def Flight_Time(Departure_or_entry,Class,Flight_type):\n",
    "    # 비행 시간표\n",
    "    departure = pd.DataFrame({'비즈니스': [11.335042016806725, 22.935111930471425, 25.619097639981486, 28.99587301587302, 51.64812499999999], \n",
    "             '이코노미': [11.215637583892619, 23.28843523073319, 25.919412673879446, 26.798203497615262, 51.6],\n",
    "             '프리미엄 이코노미': [11.302, 23.054464520367937, 26.041043719989894, 26.864802784222736, 51], \n",
    "             '퍼스트': [11.169999999999995, 19.993137996219282, 24.588079999999998, 29.370550660792954, 51]}).round(2)\n",
    "    entry = pd.DataFrame({'비즈니스': [13.326504065040652, 25.909293025470127, 28.1739769065521, 36.17582456140351, 54.69217391304348], \n",
    "         '이코노미': [13.261862068965517, 25.64626043841336, 28.733799201369084, 29.991457399103137, 56], \n",
    "         '프리미엄 이코노미': [13.166, 25.593388288800455, 28.34211437170805, 33.18008445945946, 81.385], \n",
    "         '퍼스트': [13.33435483870968, 24.71732824427481, 28.076642066420664, 31.87838331160365, 88.10833333333333]}).round(2)\n",
    "    # 비행 시간 출력\n",
    "    if Departure_or_entry == '출국':\n",
    "        return departure[Class][Flight_type]\n",
    "    elif Departure_or_entry == '귀국':\n",
    "        return entry[Class][Flight_type]\n",
    "\n",
    "## 날짜 데이터 처리\n",
    "def Date_data(Date):\n",
    "    dt = datetime(Date)\n",
    "    day = dt.day\n",
    "    # 월:0,화:1,수:2,목:3,금:4,토:5,일:6 /->전환/ '토':2, '금':1, '화':5, '수':6, '일':3, '월':4, '목':7\n",
    "    week_list = {'0':'월','1':'화','2':'수','3':'목','4':'금','5':'토','6':'일'}\n",
    "    week_code = {'토':2, '금':1, '화':5, '수':6, '일':3, '월':4, '목':7}\n",
    "    wc = week_list[str(dt.weekday())]\n",
    "    week = week_code[wc]\n",
    "    hour = dt.hour\n",
    "    return day, week, hour\n",
    "\n",
    "## 데이터 프레임형태로 만드는 함수\n",
    "def Make_DataFrame(Departure_or_entry,Date):\n",
    "    day, week, hour = Date_data(Date)\n",
    "    Flight_time_hour = Flight_Time(Departure_or_entry,Class,Flight_type)\n",
    "    return pd.DataFrame({'class': Class, \n",
    "                         'port_a': Port_a, \n",
    "                         'interior_airlines': Interior_airlines, \n",
    "                         'flight_type': Flight_type,\n",
    "                         'flight_time_hour': Flight_time_hour, \n",
    "                         'port_d': Port_d,\n",
    "                         'departure_hour': hour, \n",
    "                         'departure_date_day': day, \n",
    "                         'departure_day': week})\n"
   ]
  },
  {
   "cell_type": "code",
   "execution_count": 1,
   "metadata": {},
   "outputs": [],
   "source": [
    "# 입력 데이터 (입력값 : 치환값)\n",
    "## 출국 데이터 입력\n",
    "Departure_or_entry = '출국' #비행기 방향(KA->LA 출국)\n",
    "Class = input() #클래스 선택( 이코노미 : 1 / 비즈니스 : 2 / 프리미엄 이코노미 : 3 / 퍼스트 : 4 )\n",
    "Port_d = input() #탑승 공항( K->L : ICN = 1 / GMP = 2 | L->K LAX = 1 / BUR = 2 )\n",
    "Date = input() #날짜(-> departure_day 요일/departure_date_day 일/ departure_hour 시간/ departure_minute 분 으로 데이터가 나누어짐)\n",
    "Port_a = input() #하차 공항( K->L : LAX = 1 / BUR = 2 | L->K GMP = 1 / ICN = 2 )\n",
    "Interior_airlines = input() #국내 항공 선택(국내항공 선택 : 1 / 국내항공 선택 안함 : 0)\n",
    "Flight_type = input() #직항 경유 선택 여부(직항 : 0 / 경유 회수 : 1, 2, 3, 4)\n",
    "departure_df = Make_DataFrame(Departure_or_entry,Date)\n",
    "\n",
    "## 귀국 데이터 입력\n",
    "Departure_or_entry = '귀국' #비행기 방향(LA->KA 입국)\n",
    "Class = input() #클래스 선택( 이코노미 : 1 / 비즈니스 : 2 / 프리미엄 이코노미 : 3 / 퍼스트 : 4 )\n",
    "Port_d = input() #탑승 공항( K->L : ICN = 1 / GMP = 2 | L->K LAX = 1 / BUR = 2 )\n",
    "Date = input() #날짜(-> departure_day 요일/departure_date_day 일/ departure_hour 시간/ departure_minute 분 으로 데이터가 나누어짐)\n",
    "Port_a = input() #하차 공항( K->L : LAX = 1 / BUR = 2 | L->K GMP = 1 / ICN = 2 )\n",
    "Interior_airlines = input() #국내 항공 선택(국내항공 선택 : 1 / 국내항공 선택 안함 : 0)\n",
    "Flight_type = input() #직항 경유 선택 여부(직항 : 0 / 경유 회수 : 1, 2, 3, 4)\n",
    "entry_df = Make_DataFrame(Departure_or_entry,Date)"
   ]
  },
  {
   "cell_type": "code",
   "execution_count": null,
   "metadata": {},
   "outputs": [],
   "source": [
    "# 출국(KA -> LA)\n",
    "with open('departure.pkl','rb') as pickle_file:\n",
    "    model_departure = pickle.load(pickle_file)\n",
    "departure_pred = model_departure.predict(departure_df)[0]"
   ]
  },
  {
   "cell_type": "code",
   "execution_count": null,
   "metadata": {},
   "outputs": [],
   "source": [
    "# 귀국(LA -> KA)\n",
    "with open('entry.pkl','rb') as pickle_file:\n",
    "    model_entry = pickle.load(pickle_file)\n",
    "entry_pred = model_departure.predict(entry_df)[0]"
   ]
  },
  {
   "cell_type": "code",
   "execution_count": null,
   "metadata": {},
   "outputs": [],
   "source": [
    "# 티켓 완복 가격\n",
    "Price = round(departure_pred + entry_pred,0)\n",
    "print('출국 티켓값 : ',int(departure_pred))\n",
    "print('입국 티켓값 : ',int(entry_pred))\n",
    "print('총 티켓값 : ', int(Price))"
   ]
  },
  {
   "cell_type": "code",
   "execution_count": 12,
   "metadata": {},
   "outputs": [
    {
     "data": {
      "text/plain": [
       "datetime.date(2020, 12, 15)"
      ]
     },
     "execution_count": 12,
     "metadata": {},
     "output_type": "execute_result"
    }
   ],
   "source": [
    "test = datetime(2020, 12, 14, 14, 10, 50)\n",
    "diff_days = timedelta(hours=30,minutes=20)\n",
    "test2 = test + diff_days\n",
    "test2.date()"
   ]
  },
  {
   "cell_type": "code",
   "execution_count": 34,
   "metadata": {},
   "outputs": [
    {
     "ename": "AttributeError",
     "evalue": "'datetime.timedelta' object has no attribute 'weekday'",
     "output_type": "error",
     "traceback": [
      "\u001b[0;31m---------------------------------------------------------------------------\u001b[0m",
      "\u001b[0;31mAttributeError\u001b[0m                            Traceback (most recent call last)",
      "Cell \u001b[0;32mIn[34], line 12\u001b[0m\n\u001b[1;32m      8\u001b[0m     wc \u001b[39m=\u001b[39m week_list[\u001b[39mstr\u001b[39m(arrival\u001b[39m.\u001b[39mweekday())]\n\u001b[1;32m      9\u001b[0m     \u001b[39mreturn\u001b[39;00m arrival\u001b[39m.\u001b[39mstrftime(\u001b[39m'\u001b[39m\u001b[39m%\u001b[39m\u001b[39my-\u001b[39m\u001b[39m%\u001b[39m\u001b[39mm-\u001b[39m\u001b[39m%d\u001b[39;00m\u001b[39m \u001b[39m\u001b[39m%\u001b[39m\u001b[39mH:\u001b[39m\u001b[39m%\u001b[39m\u001b[39mM\u001b[39m\u001b[39m'\u001b[39m), wc\n\u001b[0;32m---> 12\u001b[0m a, b \u001b[39m=\u001b[39m Arrival(datetime(\u001b[39m2020\u001b[39;49m, \u001b[39m12\u001b[39;49m, \u001b[39m14\u001b[39;49m, \u001b[39m14\u001b[39;49m, \u001b[39m10\u001b[39;49m, \u001b[39m50\u001b[39;49m),\u001b[39m11.34\u001b[39;49m)\n\u001b[1;32m     13\u001b[0m \u001b[39mprint\u001b[39m(a,b)\n",
      "Cell \u001b[0;32mIn[34], line 8\u001b[0m, in \u001b[0;36mArrival\u001b[0;34m(Date, Flight_time_hour)\u001b[0m\n\u001b[1;32m      6\u001b[0m week_list \u001b[39m=\u001b[39m {\u001b[39m'\u001b[39m\u001b[39m0\u001b[39m\u001b[39m'\u001b[39m:\u001b[39m'\u001b[39m\u001b[39m월\u001b[39m\u001b[39m'\u001b[39m,\u001b[39m'\u001b[39m\u001b[39m1\u001b[39m\u001b[39m'\u001b[39m:\u001b[39m'\u001b[39m\u001b[39m화\u001b[39m\u001b[39m'\u001b[39m,\u001b[39m'\u001b[39m\u001b[39m2\u001b[39m\u001b[39m'\u001b[39m:\u001b[39m'\u001b[39m\u001b[39m수\u001b[39m\u001b[39m'\u001b[39m,\u001b[39m'\u001b[39m\u001b[39m3\u001b[39m\u001b[39m'\u001b[39m:\u001b[39m'\u001b[39m\u001b[39m목\u001b[39m\u001b[39m'\u001b[39m,\u001b[39m'\u001b[39m\u001b[39m4\u001b[39m\u001b[39m'\u001b[39m:\u001b[39m'\u001b[39m\u001b[39m금\u001b[39m\u001b[39m'\u001b[39m,\u001b[39m'\u001b[39m\u001b[39m5\u001b[39m\u001b[39m'\u001b[39m:\u001b[39m'\u001b[39m\u001b[39m토\u001b[39m\u001b[39m'\u001b[39m,\u001b[39m'\u001b[39m\u001b[39m6\u001b[39m\u001b[39m'\u001b[39m:\u001b[39m'\u001b[39m\u001b[39m일\u001b[39m\u001b[39m'\u001b[39m}\n\u001b[1;32m      7\u001b[0m arrival \u001b[39m=\u001b[39m timedelta(hours\u001b[39m=\u001b[39mhour,minutes\u001b[39m=\u001b[39mmminut)\n\u001b[0;32m----> 8\u001b[0m wc \u001b[39m=\u001b[39m week_list[\u001b[39mstr\u001b[39m(arrival\u001b[39m.\u001b[39;49mweekday())]\n\u001b[1;32m      9\u001b[0m \u001b[39mreturn\u001b[39;00m arrival\u001b[39m.\u001b[39mstrftime(\u001b[39m'\u001b[39m\u001b[39m%\u001b[39m\u001b[39my-\u001b[39m\u001b[39m%\u001b[39m\u001b[39mm-\u001b[39m\u001b[39m%d\u001b[39;00m\u001b[39m \u001b[39m\u001b[39m%\u001b[39m\u001b[39mH:\u001b[39m\u001b[39m%\u001b[39m\u001b[39mM\u001b[39m\u001b[39m'\u001b[39m), wc\n",
      "\u001b[0;31mAttributeError\u001b[0m: 'datetime.timedelta' object has no attribute 'weekday'"
     ]
    }
   ],
   "source": [
    "# 도착 시간 출력 -> 수정 중...\n",
    "def Arrival(Date,Flight_time_hour):\n",
    "    departure = Date\n",
    "    hour = int(Flight_time_hour)\n",
    "    mminut = round(Flight_time_hour - hour,2)\n",
    "    week_list = {'0':'월','1':'화','2':'수','3':'목','4':'금','5':'토','6':'일'}\n",
    "    arrival = timedelta(hours=hour,minutes=mminut)\n",
    "    wc = week_list[str(arrival.weekday())]\n",
    "    return arrival.strftime('%y-%m-%d %H:%M'), wc\n",
    "\n",
    "\n",
    "a, b = Arrival(datetime(2020, 12, 14, 14, 10, 50),11.34)\n",
    "print(a,b)"
   ]
  }
 ],
 "metadata": {
  "kernelspec": {
   "display_name": "tp",
   "language": "python",
   "name": "python3"
  },
  "language_info": {
   "codemirror_mode": {
    "name": "ipython",
    "version": 3
   },
   "file_extension": ".py",
   "mimetype": "text/x-python",
   "name": "python",
   "nbconvert_exporter": "python",
   "pygments_lexer": "ipython3",
   "version": "3.8.17"
  },
  "orig_nbformat": 4
 },
 "nbformat": 4,
 "nbformat_minor": 2
}
